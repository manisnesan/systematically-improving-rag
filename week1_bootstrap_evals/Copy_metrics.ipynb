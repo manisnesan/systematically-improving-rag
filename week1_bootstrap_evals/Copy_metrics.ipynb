{
 "cells": [
  {
   "cell_type": "code",
   "execution_count": 21,
   "metadata": {},
   "outputs": [],
   "source": [
    "# %pip install cohere"
   ]
  },
  {
   "cell_type": "code",
   "execution_count": 22,
   "metadata": {},
   "outputs": [],
   "source": [
    "# %pip install diskcache"
   ]
  },
  {
   "cell_type": "code",
   "execution_count": 3,
   "metadata": {},
   "outputs": [],
   "source": [
    "from rich import inspect as rinspect\n",
    "from rich import print as rprint"
   ]
  },
  {
   "cell_type": "markdown",
   "metadata": {},
   "source": [
    "# Context\n",
    "\n",
    "In `make_synthetic_questions.ipynb`, we generated synthetic questions to bootstrap evaluation of the retrieval system in our hardware store's Q&A system.\n",
    "\n",
    "This notebook shows the first step in calculating precision and recall with different retrieval parameters. We will run more advanced experiments in future notebooks after we have these baseline scores.\n",
    "\n",
    "## Data\n",
    "\n",
    "Here is a brief review of the data."
   ]
  },
  {
   "cell_type": "code",
   "execution_count": 4,
   "metadata": {},
   "outputs": [
    {
     "name": "stderr",
     "output_type": "stream",
     "text": [
      "/home/msivanes/miniconda3/envs/sysrag/lib/python3.10/site-packages/tqdm/auto.py:21: TqdmWarning: IProgress not found. Please update jupyter and ipywidgets. See https://ipywidgets.readthedocs.io/en/stable/user_install.html\n",
      "  from .autonotebook import tqdm as notebook_tqdm\n"
     ]
    },
    {
     "data": {
      "text/html": [
       "<div>\n",
       "<style scoped>\n",
       "    .dataframe tbody tr th:only-of-type {\n",
       "        vertical-align: middle;\n",
       "    }\n",
       "\n",
       "    .dataframe tbody tr th {\n",
       "        vertical-align: top;\n",
       "    }\n",
       "\n",
       "    .dataframe thead th {\n",
       "        text-align: right;\n",
       "    }\n",
       "</style>\n",
       "<table border=\"1\" class=\"dataframe\">\n",
       "  <thead>\n",
       "    <tr style=\"text-align: right;\">\n",
       "      <th></th>\n",
       "      <th>id</th>\n",
       "      <th>product_title</th>\n",
       "      <th>product_description</th>\n",
       "      <th>review</th>\n",
       "      <th>vector</th>\n",
       "    </tr>\n",
       "  </thead>\n",
       "  <tbody>\n",
       "    <tr>\n",
       "      <th>0</th>\n",
       "      <td>0</td>\n",
       "      <td>Cordless Drill</td>\n",
       "      <td>This powerful cordless drill features an ergonomic design perfect for all-day use. With 20 torque settings and a lithium-ion battery, it offers unmatched ve...</td>\n",
       "      <td>I've been using this cordless drill for the past 6 months, and it's been a game-changer for my DIY projects. The 20 torque settings allow me to adjust the p...</td>\n",
       "      <td>[-0.0038200605, -0.009364537, -0.026297344, -0.020058312, 0.0376258, 0.0038050916, -0.000636552, 0.06768333, 0.023818497, -0.0054426882, 0.011939186, 0.0186...</td>\n",
       "    </tr>\n",
       "    <tr>\n",
       "      <th>1</th>\n",
       "      <td>1</td>\n",
       "      <td>Cordless Drill</td>\n",
       "      <td>This powerful cordless drill features an ergonomic design perfect for all-day use. With 20 torque settings and a lithium-ion battery, it offers unmatched ve...</td>\n",
       "      <td>Purchased this cordless drill a year ago and it has not disappointed. The 20 torque settings provide great control and precision, especially on delicate tas...</td>\n",
       "      <td>[-0.023377769, -0.01479075, -0.014503318, -0.029437784, 0.029629406, -0.0010449336, -0.022671165, 0.08718758, -0.0075630434, -0.0136050945, 0.041390147, 0.0...</td>\n",
       "    </tr>\n",
       "    <tr>\n",
       "      <th>2</th>\n",
       "      <td>2</td>\n",
       "      <td>Cordless Drill</td>\n",
       "      <td>Our lightweight cordless drill comes equipped with a flexible LED work light to illuminate your workspace. The 18V battery provides ample power for tough ma...</td>\n",
       "      <td>I've been using this cordless drill for the past six months on various projects around the house, and I am thoroughly impressed. The 18V battery provides in...</td>\n",
       "      <td>[-0.015202215, 0.0038308129, 0.0022391798, -0.008841734, 0.008781216, 0.008865941, -0.007449812, 0.061050933, 0.045049876, -0.01014288, 0.037472975, -0.0050...</td>\n",
       "    </tr>\n",
       "    <tr>\n",
       "      <th>3</th>\n",
       "      <td>3</td>\n",
       "      <td>Cordless Drill</td>\n",
       "      <td>Our lightweight cordless drill comes equipped with a flexible LED work light to illuminate your workspace. The 18V battery provides ample power for tough ma...</td>\n",
       "      <td>I purchased this cordless drill about a year ago for use in my small woodworking shop, and it has exceeded my expectations. The 18V lithium-ion battery prov...</td>\n",
       "      <td>[-0.025799386, -0.0032572313, -0.018315684, -0.022368867, 0.03334183, -0.0056832666, -0.02441308, 0.06597876, 0.019596254, -0.023543702, 0.05545223, 0.00619...</td>\n",
       "    </tr>\n",
       "    <tr>\n",
       "      <th>4</th>\n",
       "      <td>4</td>\n",
       "      <td>Cordless Drill</td>\n",
       "      <td>Engineered for precision, this cordless drill has a compact design that allows for maximum maneuverability in tight spaces. It includes a built-in battery i...</td>\n",
       "      <td>I've been using the Cordless Drill for about six months now, and it has exceeded my expectations. The compact design makes it easy to use in tight spaces, w...</td>\n",
       "      <td>[-0.009312706, 0.01556987, 0.0027725082, -0.0062510776, 0.012757799, 0.015630737, 0.0029307632, 0.058724828, 0.06598022, -0.004050723, 0.014145574, -0.00955...</td>\n",
       "    </tr>\n",
       "  </tbody>\n",
       "</table>\n",
       "</div>"
      ],
      "text/plain": [
       "  id   product_title  \\\n",
       "0  0  Cordless Drill   \n",
       "1  1  Cordless Drill   \n",
       "2  2  Cordless Drill   \n",
       "3  3  Cordless Drill   \n",
       "4  4  Cordless Drill   \n",
       "\n",
       "                                                                                                                                               product_description  \\\n",
       "0  This powerful cordless drill features an ergonomic design perfect for all-day use. With 20 torque settings and a lithium-ion battery, it offers unmatched ve...   \n",
       "1  This powerful cordless drill features an ergonomic design perfect for all-day use. With 20 torque settings and a lithium-ion battery, it offers unmatched ve...   \n",
       "2  Our lightweight cordless drill comes equipped with a flexible LED work light to illuminate your workspace. The 18V battery provides ample power for tough ma...   \n",
       "3  Our lightweight cordless drill comes equipped with a flexible LED work light to illuminate your workspace. The 18V battery provides ample power for tough ma...   \n",
       "4  Engineered for precision, this cordless drill has a compact design that allows for maximum maneuverability in tight spaces. It includes a built-in battery i...   \n",
       "\n",
       "                                                                                                                                                            review  \\\n",
       "0  I've been using this cordless drill for the past 6 months, and it's been a game-changer for my DIY projects. The 20 torque settings allow me to adjust the p...   \n",
       "1  Purchased this cordless drill a year ago and it has not disappointed. The 20 torque settings provide great control and precision, especially on delicate tas...   \n",
       "2  I've been using this cordless drill for the past six months on various projects around the house, and I am thoroughly impressed. The 18V battery provides in...   \n",
       "3  I purchased this cordless drill about a year ago for use in my small woodworking shop, and it has exceeded my expectations. The 18V lithium-ion battery prov...   \n",
       "4  I've been using the Cordless Drill for about six months now, and it has exceeded my expectations. The compact design makes it easy to use in tight spaces, w...   \n",
       "\n",
       "                                                                                                                                                            vector  \n",
       "0  [-0.0038200605, -0.009364537, -0.026297344, -0.020058312, 0.0376258, 0.0038050916, -0.000636552, 0.06768333, 0.023818497, -0.0054426882, 0.011939186, 0.0186...  \n",
       "1  [-0.023377769, -0.01479075, -0.014503318, -0.029437784, 0.029629406, -0.0010449336, -0.022671165, 0.08718758, -0.0075630434, -0.0136050945, 0.041390147, 0.0...  \n",
       "2  [-0.015202215, 0.0038308129, 0.0022391798, -0.008841734, 0.008781216, 0.008865941, -0.007449812, 0.061050933, 0.045049876, -0.01014288, 0.037472975, -0.0050...  \n",
       "3  [-0.025799386, -0.0032572313, -0.018315684, -0.022368867, 0.03334183, -0.0056832666, -0.02441308, 0.06597876, 0.019596254, -0.023543702, 0.05545223, 0.00619...  \n",
       "4  [-0.009312706, 0.01556987, 0.0027725082, -0.0062510776, 0.012757799, 0.015630737, 0.0029307632, 0.058724828, 0.06598022, -0.004050723, 0.014145574, -0.00955...  "
      ]
     },
     "execution_count": 4,
     "metadata": {},
     "output_type": "execute_result"
    }
   ],
   "source": [
    "import json\n",
    "import lancedb\n",
    "import os\n",
    "import pandas as pd\n",
    "from typing import List, Dict\n",
    "from concurrent.futures import ThreadPoolExecutor\n",
    "\n",
    "pd.set_option(\"display.max_colwidth\", 160)\n",
    "\n",
    "db = lancedb.connect(\"./lancedb\")\n",
    "reviews_table = db.open_table(\"reviews\")\n",
    "reviews_table.to_pandas().head()"
   ]
  },
  {
   "cell_type": "code",
   "execution_count": 5,
   "metadata": {},
   "outputs": [
    {
     "data": {
      "text/plain": [
       "[{'question': 'How good is the battery life on this cordless drill?',\n",
       "  'answer': 'It comes with two included batteries, ensuring that you never run out of power on the job.',\n",
       "  'chunk_id': '0'},\n",
       " {'question': 'Is this cordless drill easy to handle for long tasks?',\n",
       "  'answer': 'Yes, its lightweight design makes it easy to use for extended periods without fatigue.',\n",
       "  'chunk_id': '0'},\n",
       " {'question': 'How powerful is the motor in this cordless drill?',\n",
       "  'answer': 'The cordless drill features a powerful motor that exceeds expectations for professional use.',\n",
       "  'chunk_id': '1'},\n",
       " {'question': 'What design features make this drill suitable for overhead tasks?',\n",
       "  'answer': 'The cordless drill has a lightweight design and ergonomic build, making it perfect for overhead tasks.',\n",
       "  'chunk_id': '1'},\n",
       " {'question': 'How durable are the batteries for this cordless drill?',\n",
       "  'answer': 'The batteries charge quickly and last a long time, which is a huge plus.',\n",
       "  'chunk_id': '2'}]"
      ]
     },
     "execution_count": 5,
     "metadata": {},
     "output_type": "execute_result"
    }
   ],
   "source": [
    "with open(\"synthetic_eval_dataset.json\", \"r\") as f:\n",
    "    synthetic_questions = json.load(f)\n",
    "synthetic_questions[:5]"
   ]
  },
  {
   "cell_type": "markdown",
   "metadata": {},
   "source": [
    "## Set Up Evaluation\n",
    "\n",
    "Load the evaluation questions into a structured format."
   ]
  },
  {
   "cell_type": "code",
   "execution_count": 6,
   "metadata": {},
   "outputs": [],
   "source": [
    "from pydantic import BaseModel\n",
    "\n",
    "\n",
    "class EvalQuestion(BaseModel):\n",
    "    question: str\n",
    "    answer: str\n",
    "    chunk_id: str\n"
   ]
  },
  {
   "cell_type": "code",
   "execution_count": 7,
   "metadata": {},
   "outputs": [],
   "source": [
    "eval_questions = [EvalQuestion(**question) for question in synthetic_questions]"
   ]
  },
  {
   "cell_type": "code",
   "execution_count": 8,
   "metadata": {},
   "outputs": [
    {
     "data": {
      "text/plain": [
       "[EvalQuestion(question='How good is the battery life on this cordless drill?', answer='It comes with two included batteries, ensuring that you never run out of power on the job.', chunk_id='0'),\n",
       " EvalQuestion(question='Is this cordless drill easy to handle for long tasks?', answer='Yes, its lightweight design makes it easy to use for extended periods without fatigue.', chunk_id='0'),\n",
       " EvalQuestion(question='How powerful is the motor in this cordless drill?', answer='The cordless drill features a powerful motor that exceeds expectations for professional use.', chunk_id='1'),\n",
       " EvalQuestion(question='What design features make this drill suitable for overhead tasks?', answer='The cordless drill has a lightweight design and ergonomic build, making it perfect for overhead tasks.', chunk_id='1'),\n",
       " EvalQuestion(question='How durable are the batteries for this cordless drill?', answer='The batteries charge quickly and last a long time, which is a huge plus.', chunk_id='2')]"
      ]
     },
     "execution_count": 8,
     "metadata": {},
     "output_type": "execute_result"
    }
   ],
   "source": [
    "eval_questions[:5]"
   ]
  },
  {
   "cell_type": "code",
   "execution_count": 9,
   "metadata": {},
   "outputs": [],
   "source": [
    "from pydantic import BaseModel\n",
    "\n",
    "\n",
    "class EvalQuestion(BaseModel):\n",
    "    question: str\n",
    "    answer: str\n",
    "    chunk_id: str\n",
    "\n",
    "\n",
    "eval_questions = [EvalQuestion(**question) for question in synthetic_questions]"
   ]
  },
  {
   "cell_type": "markdown",
   "metadata": {},
   "source": [
    "Build a simple search function"
   ]
  },
  {
   "cell_type": "code",
   "execution_count": 23,
   "metadata": {},
   "outputs": [
    {
     "data": {
      "text/plain": [
       "[EvalQuestion(question='How good is the battery life on this cordless drill?', answer='It comes with two included batteries, ensuring that you never run out of power on the job.', chunk_id='0'),\n",
       " EvalQuestion(question='Is this cordless drill easy to handle for long tasks?', answer='Yes, its lightweight design makes it easy to use for extended periods without fatigue.', chunk_id='0'),\n",
       " EvalQuestion(question='How powerful is the motor in this cordless drill?', answer='The cordless drill features a powerful motor that exceeds expectations for professional use.', chunk_id='1'),\n",
       " EvalQuestion(question='What design features make this drill suitable for overhead tasks?', answer='The cordless drill has a lightweight design and ergonomic build, making it perfect for overhead tasks.', chunk_id='1'),\n",
       " EvalQuestion(question='How durable are the batteries for this cordless drill?', answer='The batteries charge quickly and last a long time, which is a huge plus.', chunk_id='2')]"
      ]
     },
     "execution_count": 23,
     "metadata": {},
     "output_type": "execute_result"
    }
   ],
   "source": [
    "eval_questions[:5]"
   ]
  },
  {
   "cell_type": "markdown",
   "metadata": {},
   "source": []
  },
  {
   "cell_type": "code",
   "execution_count": 10,
   "metadata": {},
   "outputs": [],
   "source": [
    "q = eval_questions[0]\n",
    "n_return_vals = 5"
   ]
  },
  {
   "cell_type": "code",
   "execution_count": 11,
   "metadata": {},
   "outputs": [
    {
     "data": {
      "text/html": [
       "<pre style=\"white-space:pre;overflow-x:auto;line-height:normal;font-family:Menlo,'DejaVu Sans Mono',consolas,'Courier New',monospace\"><span style=\"color: #000080; text-decoration-color: #000080\">╭─ </span><span style=\"color: #000080; text-decoration-color: #000080; font-weight: bold\">&lt;</span><span style=\"color: #ff00ff; text-decoration-color: #ff00ff; font-weight: bold\">bound</span><span style=\"color: #000000; text-decoration-color: #000000\"> method LanceTable.search of </span><span style=\"color: #800080; text-decoration-color: #800080; font-weight: bold\">LanceTable</span><span style=\"color: #000000; text-decoration-color: #000000; font-weight: bold\">(</span><span style=\"color: #808000; text-decoration-color: #808000\">connection</span><span style=\"color: #000000; text-decoration-color: #000000\">=</span><span style=\"color: #800080; text-decoration-color: #800080; font-weight: bold\">LanceDBConnection</span><span style=\"color: #000000; text-decoration-color: #000000; font-weight: bold\">(</span><span style=\"color: #800080; text-decoration-color: #800080\">/home/msivanes/Documents/1Projects/</span><span style=\"color: #000080; text-decoration-color: #000080\">─╮</span>\n",
       "<span style=\"color: #000080; text-decoration-color: #000080\">│</span> <span style=\"color: #00ffff; text-decoration-color: #00ffff; font-style: italic\">def </span><span style=\"color: #800000; text-decoration-color: #800000; font-weight: bold\">LanceTable.search</span><span style=\"font-weight: bold\">(</span>query: <span style=\"color: #008000; text-decoration-color: #008000\">\"Optional[Union[VEC, str, 'PIL.Image.Image', Tuple]]\"</span> = <span style=\"color: #800080; text-decoration-color: #800080; font-style: italic\">None</span>, vector_column_name:  <span style=\"color: #000080; text-decoration-color: #000080\">│</span>\n",
       "<span style=\"color: #000080; text-decoration-color: #000080\">│</span> <span style=\"color: #008000; text-decoration-color: #008000\">'Optional[str]'</span> = <span style=\"color: #800080; text-decoration-color: #800080; font-style: italic\">None</span>, query_type: <span style=\"color: #008000; text-decoration-color: #008000\">'str'</span> = <span style=\"color: #008000; text-decoration-color: #008000\">'auto'</span>, ordering_field_name: <span style=\"color: #008000; text-decoration-color: #008000\">'Optional[str]'</span> = <span style=\"color: #800080; text-decoration-color: #800080; font-style: italic\">None</span><span style=\"font-weight: bold\">)</span> -&gt;             <span style=\"color: #000080; text-decoration-color: #000080\">│</span>\n",
       "<span style=\"color: #000080; text-decoration-color: #000080\">│</span> <span style=\"color: #008000; text-decoration-color: #008000\">'LanceQueryBuilder'</span>:                                                                                            <span style=\"color: #000080; text-decoration-color: #000080\">│</span>\n",
       "<span style=\"color: #000080; text-decoration-color: #000080\">│</span>                                                                                                                 <span style=\"color: #000080; text-decoration-color: #000080\">│</span>\n",
       "<span style=\"color: #000080; text-decoration-color: #000080\">│</span> <span style=\"color: #008080; text-decoration-color: #008080\">Create a search query to find the nearest neighbors</span>                                                             <span style=\"color: #000080; text-decoration-color: #000080\">│</span>\n",
       "<span style=\"color: #000080; text-decoration-color: #000080\">│</span> <span style=\"color: #008080; text-decoration-color: #008080\">of the given query vector. We currently support </span><span style=\"color: #008080; text-decoration-color: #008080; font-weight: bold\">[</span><span style=\"color: #008080; text-decoration-color: #008080\">vector search</span><span style=\"color: #008080; text-decoration-color: #008080; font-weight: bold\">][</span><span style=\"color: #008080; text-decoration-color: #008080\">search</span><span style=\"color: #008080; text-decoration-color: #008080; font-weight: bold\">]</span>                                         <span style=\"color: #000080; text-decoration-color: #000080\">│</span>\n",
       "<span style=\"color: #000080; text-decoration-color: #000080\">│</span> <span style=\"color: #008080; text-decoration-color: #008080\">and </span><span style=\"color: #008080; text-decoration-color: #008080; font-weight: bold\">[</span><span style=\"color: #008080; text-decoration-color: #008080\">full-text search</span><span style=\"color: #008080; text-decoration-color: #008080; font-weight: bold\">][</span><span style=\"color: #008080; text-decoration-color: #008080\">search</span><span style=\"color: #008080; text-decoration-color: #008080; font-weight: bold\">]</span><span style=\"color: #008080; text-decoration-color: #008080\">.</span>                                                                                 <span style=\"color: #000080; text-decoration-color: #000080\">│</span>\n",
       "<span style=\"color: #000080; text-decoration-color: #000080\">│</span>                                                                                                                 <span style=\"color: #000080; text-decoration-color: #000080\">│</span>\n",
       "<span style=\"color: #000080; text-decoration-color: #000080\">│</span> <span style=\"color: #008080; text-decoration-color: #008080\">Examples</span>                                                                                                        <span style=\"color: #000080; text-decoration-color: #000080\">│</span>\n",
       "<span style=\"color: #000080; text-decoration-color: #000080\">│</span> <span style=\"color: #008080; text-decoration-color: #008080\">--------</span>                                                                                                        <span style=\"color: #000080; text-decoration-color: #000080\">│</span>\n",
       "<span style=\"color: #000080; text-decoration-color: #000080\">│</span> <span style=\"color: #008080; text-decoration-color: #008080\">&gt;&gt;&gt; import lancedb</span>                                                                                              <span style=\"color: #000080; text-decoration-color: #000080\">│</span>\n",
       "<span style=\"color: #000080; text-decoration-color: #000080\">│</span> <span style=\"color: #008080; text-decoration-color: #008080\">&gt;&gt;&gt; db = </span><span style=\"color: #800080; text-decoration-color: #800080; font-weight: bold\">lancedb.connect</span><span style=\"color: #008080; text-decoration-color: #008080; font-weight: bold\">(</span><span style=\"color: #008000; text-decoration-color: #008000\">\"./.lancedb\"</span><span style=\"color: #008080; text-decoration-color: #008080; font-weight: bold\">)</span>                                                                          <span style=\"color: #000080; text-decoration-color: #000080\">│</span>\n",
       "<span style=\"color: #000080; text-decoration-color: #000080\">│</span> <span style=\"color: #008080; text-decoration-color: #008080\">&gt;&gt;&gt; data = </span><span style=\"color: #008080; text-decoration-color: #008080; font-weight: bold\">[</span>                                                                                                    <span style=\"color: #000080; text-decoration-color: #000080\">│</span>\n",
       "<span style=\"color: #000080; text-decoration-color: #000080\">│</span> <span style=\"color: #808000; text-decoration-color: #808000\">...</span><span style=\"color: #008080; text-decoration-color: #008080\">    </span><span style=\"color: #008080; text-decoration-color: #008080; font-weight: bold\">{</span><span style=\"color: #008000; text-decoration-color: #008000\">\"original_width\"</span><span style=\"color: #008080; text-decoration-color: #008080\">: </span><span style=\"color: #008080; text-decoration-color: #008080; font-weight: bold\">100</span><span style=\"color: #008080; text-decoration-color: #008080\">, </span><span style=\"color: #008000; text-decoration-color: #008000\">\"caption\"</span><span style=\"color: #008080; text-decoration-color: #008080\">: </span><span style=\"color: #008000; text-decoration-color: #008000\">\"bar\"</span><span style=\"color: #008080; text-decoration-color: #008080\">, </span><span style=\"color: #008000; text-decoration-color: #008000\">\"vector\"</span><span style=\"color: #008080; text-decoration-color: #008080\">: </span><span style=\"color: #008080; text-decoration-color: #008080; font-weight: bold\">[</span><span style=\"color: #008080; text-decoration-color: #008080; font-weight: bold\">0.1</span><span style=\"color: #008080; text-decoration-color: #008080\">, </span><span style=\"color: #008080; text-decoration-color: #008080; font-weight: bold\">2.3</span><span style=\"color: #008080; text-decoration-color: #008080\">, </span><span style=\"color: #008080; text-decoration-color: #008080; font-weight: bold\">4.5</span><span style=\"color: #008080; text-decoration-color: #008080; font-weight: bold\">]}</span><span style=\"color: #008080; text-decoration-color: #008080\">,</span>                                    <span style=\"color: #000080; text-decoration-color: #000080\">│</span>\n",
       "<span style=\"color: #000080; text-decoration-color: #000080\">│</span> <span style=\"color: #808000; text-decoration-color: #808000\">...</span><span style=\"color: #008080; text-decoration-color: #008080\">    </span><span style=\"color: #008080; text-decoration-color: #008080; font-weight: bold\">{</span><span style=\"color: #008000; text-decoration-color: #008000\">\"original_width\"</span><span style=\"color: #008080; text-decoration-color: #008080\">: </span><span style=\"color: #008080; text-decoration-color: #008080; font-weight: bold\">2000</span><span style=\"color: #008080; text-decoration-color: #008080\">, </span><span style=\"color: #008000; text-decoration-color: #008000\">\"caption\"</span><span style=\"color: #008080; text-decoration-color: #008080\">: </span><span style=\"color: #008000; text-decoration-color: #008000\">\"foo\"</span><span style=\"color: #008080; text-decoration-color: #008080\">,  </span><span style=\"color: #008000; text-decoration-color: #008000\">\"vector\"</span><span style=\"color: #008080; text-decoration-color: #008080\">: </span><span style=\"color: #008080; text-decoration-color: #008080; font-weight: bold\">[</span><span style=\"color: #008080; text-decoration-color: #008080; font-weight: bold\">0.5</span><span style=\"color: #008080; text-decoration-color: #008080\">, </span><span style=\"color: #008080; text-decoration-color: #008080; font-weight: bold\">3.4</span><span style=\"color: #008080; text-decoration-color: #008080\">, </span><span style=\"color: #008080; text-decoration-color: #008080; font-weight: bold\">1.3</span><span style=\"color: #008080; text-decoration-color: #008080; font-weight: bold\">]}</span><span style=\"color: #008080; text-decoration-color: #008080\">,</span>                                  <span style=\"color: #000080; text-decoration-color: #000080\">│</span>\n",
       "<span style=\"color: #000080; text-decoration-color: #000080\">│</span> <span style=\"color: #808000; text-decoration-color: #808000\">...</span><span style=\"color: #008080; text-decoration-color: #008080\">    </span><span style=\"color: #008080; text-decoration-color: #008080; font-weight: bold\">{</span><span style=\"color: #008000; text-decoration-color: #008000\">\"original_width\"</span><span style=\"color: #008080; text-decoration-color: #008080\">: </span><span style=\"color: #008080; text-decoration-color: #008080; font-weight: bold\">3000</span><span style=\"color: #008080; text-decoration-color: #008080\">, </span><span style=\"color: #008000; text-decoration-color: #008000\">\"caption\"</span><span style=\"color: #008080; text-decoration-color: #008080\">: </span><span style=\"color: #008000; text-decoration-color: #008000\">\"test\"</span><span style=\"color: #008080; text-decoration-color: #008080\">, </span><span style=\"color: #008000; text-decoration-color: #008000\">\"vector\"</span><span style=\"color: #008080; text-decoration-color: #008080\">: </span><span style=\"color: #008080; text-decoration-color: #008080; font-weight: bold\">[</span><span style=\"color: #008080; text-decoration-color: #008080; font-weight: bold\">0.3</span><span style=\"color: #008080; text-decoration-color: #008080\">, </span><span style=\"color: #008080; text-decoration-color: #008080; font-weight: bold\">6.2</span><span style=\"color: #008080; text-decoration-color: #008080\">, </span><span style=\"color: #008080; text-decoration-color: #008080; font-weight: bold\">2.6</span><span style=\"color: #008080; text-decoration-color: #008080; font-weight: bold\">]}</span>                                   <span style=\"color: #000080; text-decoration-color: #000080\">│</span>\n",
       "<span style=\"color: #000080; text-decoration-color: #000080\">│</span> <span style=\"color: #808000; text-decoration-color: #808000\">...</span><span style=\"color: #008080; text-decoration-color: #008080\"> </span><span style=\"color: #008080; text-decoration-color: #008080; font-weight: bold\">]</span>                                                                                                           <span style=\"color: #000080; text-decoration-color: #000080\">│</span>\n",
       "<span style=\"color: #000080; text-decoration-color: #000080\">│</span> <span style=\"color: #008080; text-decoration-color: #008080\">&gt;&gt;&gt; table = </span><span style=\"color: #800080; text-decoration-color: #800080; font-weight: bold\">db.create_table</span><span style=\"color: #008080; text-decoration-color: #008080; font-weight: bold\">(</span><span style=\"color: #008000; text-decoration-color: #008000\">\"my_table\"</span><span style=\"color: #008080; text-decoration-color: #008080\">, data</span><span style=\"color: #008080; text-decoration-color: #008080; font-weight: bold\">)</span>                                                                   <span style=\"color: #000080; text-decoration-color: #000080\">│</span>\n",
       "<span style=\"color: #000080; text-decoration-color: #000080\">│</span> <span style=\"color: #008080; text-decoration-color: #008080\">&gt;&gt;&gt; query = </span><span style=\"color: #008080; text-decoration-color: #008080; font-weight: bold\">[</span><span style=\"color: #008080; text-decoration-color: #008080; font-weight: bold\">0.4</span><span style=\"color: #008080; text-decoration-color: #008080\">, </span><span style=\"color: #008080; text-decoration-color: #008080; font-weight: bold\">1.4</span><span style=\"color: #008080; text-decoration-color: #008080\">, </span><span style=\"color: #008080; text-decoration-color: #008080; font-weight: bold\">2.4</span><span style=\"color: #008080; text-decoration-color: #008080; font-weight: bold\">]</span>                                                                                     <span style=\"color: #000080; text-decoration-color: #000080\">│</span>\n",
       "<span style=\"color: #000080; text-decoration-color: #000080\">│</span> <span style=\"color: #008080; text-decoration-color: #008080\">&gt;&gt;&gt; </span><span style=\"color: #008080; text-decoration-color: #008080; font-weight: bold\">(</span><span style=\"color: #800080; text-decoration-color: #800080; font-weight: bold\">table.search</span><span style=\"color: #008080; text-decoration-color: #008080; font-weight: bold\">(</span><span style=\"color: #008080; text-decoration-color: #008080\">query</span><span style=\"color: #008080; text-decoration-color: #008080; font-weight: bold\">)</span>                                                                                        <span style=\"color: #000080; text-decoration-color: #000080\">│</span>\n",
       "<span style=\"color: #000080; text-decoration-color: #000080\">│</span> <span style=\"color: #808000; text-decoration-color: #808000\">...</span><span style=\"color: #008080; text-decoration-color: #008080\">     </span><span style=\"color: #800080; text-decoration-color: #800080; font-weight: bold\">.where</span><span style=\"color: #008080; text-decoration-color: #008080; font-weight: bold\">(</span><span style=\"color: #008000; text-decoration-color: #008000\">\"original_width &gt; 1000\"</span><span style=\"color: #008080; text-decoration-color: #008080\">, </span><span style=\"color: #808000; text-decoration-color: #808000\">prefilter</span><span style=\"color: #008080; text-decoration-color: #008080\">=</span><span style=\"color: #00ff00; text-decoration-color: #00ff00; font-style: italic\">True</span><span style=\"color: #008080; text-decoration-color: #008080; font-weight: bold\">)</span>                                                         <span style=\"color: #000080; text-decoration-color: #000080\">│</span>\n",
       "<span style=\"color: #000080; text-decoration-color: #000080\">│</span> <span style=\"color: #808000; text-decoration-color: #808000\">...</span><span style=\"color: #008080; text-decoration-color: #008080\">     </span><span style=\"color: #800080; text-decoration-color: #800080; font-weight: bold\">.select</span><span style=\"color: #008080; text-decoration-color: #008080; font-weight: bold\">([</span><span style=\"color: #008000; text-decoration-color: #008000\">\"caption\"</span><span style=\"color: #008080; text-decoration-color: #008080\">, </span><span style=\"color: #008000; text-decoration-color: #008000\">\"original_width\"</span><span style=\"color: #008080; text-decoration-color: #008080\">, </span><span style=\"color: #008000; text-decoration-color: #008000\">\"vector\"</span><span style=\"color: #008080; text-decoration-color: #008080; font-weight: bold\">])</span>                                                        <span style=\"color: #000080; text-decoration-color: #000080\">│</span>\n",
       "<span style=\"color: #000080; text-decoration-color: #000080\">│</span> <span style=\"color: #808000; text-decoration-color: #808000\">...</span><span style=\"color: #008080; text-decoration-color: #008080\">     </span><span style=\"color: #800080; text-decoration-color: #800080; font-weight: bold\">.limit</span><span style=\"color: #008080; text-decoration-color: #008080; font-weight: bold\">(</span><span style=\"color: #008080; text-decoration-color: #008080; font-weight: bold\">2</span><span style=\"color: #008080; text-decoration-color: #008080; font-weight: bold\">)</span>                                                                                               <span style=\"color: #000080; text-decoration-color: #000080\">│</span>\n",
       "<span style=\"color: #000080; text-decoration-color: #000080\">│</span> <span style=\"color: #808000; text-decoration-color: #808000\">...</span><span style=\"color: #008080; text-decoration-color: #008080\">     </span><span style=\"color: #800080; text-decoration-color: #800080; font-weight: bold\">.to_pandas</span><span style=\"color: #008080; text-decoration-color: #008080; font-weight: bold\">())</span>                                                                                           <span style=\"color: #000080; text-decoration-color: #000080\">│</span>\n",
       "<span style=\"color: #000080; text-decoration-color: #000080\">│</span> <span style=\"color: #008080; text-decoration-color: #008080\">  caption  original_width           vector  _distance</span>                                                           <span style=\"color: #000080; text-decoration-color: #000080\">│</span>\n",
       "<span style=\"color: #000080; text-decoration-color: #000080\">│</span> <span style=\"color: #008080; text-decoration-color: #008080; font-weight: bold\">0</span><span style=\"color: #008080; text-decoration-color: #008080\">     foo            </span><span style=\"color: #008080; text-decoration-color: #008080; font-weight: bold\">2000</span><span style=\"color: #008080; text-decoration-color: #008080\">  </span><span style=\"color: #008080; text-decoration-color: #008080; font-weight: bold\">[</span><span style=\"color: #008080; text-decoration-color: #008080; font-weight: bold\">0.5</span><span style=\"color: #008080; text-decoration-color: #008080\">, </span><span style=\"color: #008080; text-decoration-color: #008080; font-weight: bold\">3.4</span><span style=\"color: #008080; text-decoration-color: #008080\">, </span><span style=\"color: #008080; text-decoration-color: #008080; font-weight: bold\">1.3</span><span style=\"color: #008080; text-decoration-color: #008080; font-weight: bold\">]</span><span style=\"color: #008080; text-decoration-color: #008080\">   </span><span style=\"color: #008080; text-decoration-color: #008080; font-weight: bold\">5.220000</span>                                                           <span style=\"color: #000080; text-decoration-color: #000080\">│</span>\n",
       "<span style=\"color: #000080; text-decoration-color: #000080\">│</span> <span style=\"color: #008080; text-decoration-color: #008080; font-weight: bold\">1</span><span style=\"color: #008080; text-decoration-color: #008080\">    test            </span><span style=\"color: #008080; text-decoration-color: #008080; font-weight: bold\">3000</span><span style=\"color: #008080; text-decoration-color: #008080\">  </span><span style=\"color: #008080; text-decoration-color: #008080; font-weight: bold\">[</span><span style=\"color: #008080; text-decoration-color: #008080; font-weight: bold\">0.3</span><span style=\"color: #008080; text-decoration-color: #008080\">, </span><span style=\"color: #008080; text-decoration-color: #008080; font-weight: bold\">6.2</span><span style=\"color: #008080; text-decoration-color: #008080\">, </span><span style=\"color: #008080; text-decoration-color: #008080; font-weight: bold\">2.6</span><span style=\"color: #008080; text-decoration-color: #008080; font-weight: bold\">]</span><span style=\"color: #008080; text-decoration-color: #008080\">  </span><span style=\"color: #008080; text-decoration-color: #008080; font-weight: bold\">23.089996</span>                                                           <span style=\"color: #000080; text-decoration-color: #000080\">│</span>\n",
       "<span style=\"color: #000080; text-decoration-color: #000080\">│</span>                                                                                                                 <span style=\"color: #000080; text-decoration-color: #000080\">│</span>\n",
       "<span style=\"color: #000080; text-decoration-color: #000080\">│</span> <span style=\"color: #008080; text-decoration-color: #008080\">Parameters</span>                                                                                                      <span style=\"color: #000080; text-decoration-color: #000080\">│</span>\n",
       "<span style=\"color: #000080; text-decoration-color: #000080\">│</span> <span style=\"color: #008080; text-decoration-color: #008080\">----------</span>                                                                                                      <span style=\"color: #000080; text-decoration-color: #000080\">│</span>\n",
       "<span style=\"color: #000080; text-decoration-color: #000080\">│</span> <span style=\"color: #008080; text-decoration-color: #008080\">query: list/np.ndarray/str/PIL.Image.Image, default </span><span style=\"color: #800080; text-decoration-color: #800080; font-style: italic\">None</span>                                                        <span style=\"color: #000080; text-decoration-color: #000080\">│</span>\n",
       "<span style=\"color: #000080; text-decoration-color: #000080\">│</span> <span style=\"color: #008080; text-decoration-color: #008080\">    The targetted vector to search for.</span>                                                                         <span style=\"color: #000080; text-decoration-color: #000080\">│</span>\n",
       "<span style=\"color: #000080; text-decoration-color: #000080\">│</span>                                                                                                                 <span style=\"color: #000080; text-decoration-color: #000080\">│</span>\n",
       "<span style=\"color: #000080; text-decoration-color: #000080\">│</span> <span style=\"color: #008080; text-decoration-color: #008080\">    - *default </span><span style=\"color: #800080; text-decoration-color: #800080; font-style: italic\">None</span><span style=\"color: #008080; text-decoration-color: #008080\">*.</span>                                                                                           <span style=\"color: #000080; text-decoration-color: #000080\">│</span>\n",
       "<span style=\"color: #000080; text-decoration-color: #000080\">│</span> <span style=\"color: #008080; text-decoration-color: #008080\">    Acceptable types are: list, np.ndarray, PIL.Image.Image</span>                                                     <span style=\"color: #000080; text-decoration-color: #000080\">│</span>\n",
       "<span style=\"color: #000080; text-decoration-color: #000080\">│</span>                                                                                                                 <span style=\"color: #000080; text-decoration-color: #000080\">│</span>\n",
       "<span style=\"color: #000080; text-decoration-color: #000080\">│</span> <span style=\"color: #008080; text-decoration-color: #008080\">    - If </span><span style=\"color: #800080; text-decoration-color: #800080; font-style: italic\">None</span><span style=\"color: #008080; text-decoration-color: #008080\"> then the select/</span><span style=\"color: #008080; text-decoration-color: #008080; font-weight: bold\">[</span><span style=\"color: #008080; text-decoration-color: #008080\">where</span><span style=\"color: #008080; text-decoration-color: #008080; font-weight: bold\">][</span><span style=\"color: #008080; text-decoration-color: #008080\">sql</span><span style=\"color: #008080; text-decoration-color: #008080; font-weight: bold\">]</span><span style=\"color: #800080; text-decoration-color: #800080\">/</span><span style=\"color: #ff00ff; text-decoration-color: #ff00ff\">limit</span><span style=\"color: #008080; text-decoration-color: #008080\"> clauses are applied</span>                                            <span style=\"color: #000080; text-decoration-color: #000080\">│</span>\n",
       "<span style=\"color: #000080; text-decoration-color: #000080\">│</span> <span style=\"color: #008080; text-decoration-color: #008080\">    to filter the table</span>                                                                                         <span style=\"color: #000080; text-decoration-color: #000080\">│</span>\n",
       "<span style=\"color: #000080; text-decoration-color: #000080\">│</span> <span style=\"color: #008080; text-decoration-color: #008080\">vector_column_name: str, optional</span>                                                                               <span style=\"color: #000080; text-decoration-color: #000080\">│</span>\n",
       "<span style=\"color: #000080; text-decoration-color: #000080\">│</span> <span style=\"color: #008080; text-decoration-color: #008080\">    The name of the vector column to search.</span>                                                                    <span style=\"color: #000080; text-decoration-color: #000080\">│</span>\n",
       "<span style=\"color: #000080; text-decoration-color: #000080\">│</span>                                                                                                                 <span style=\"color: #000080; text-decoration-color: #000080\">│</span>\n",
       "<span style=\"color: #000080; text-decoration-color: #000080\">│</span> <span style=\"color: #008080; text-decoration-color: #008080\">    The vector column needs to be a pyarrow fixed size list type</span>                                                <span style=\"color: #000080; text-decoration-color: #000080\">│</span>\n",
       "<span style=\"color: #000080; text-decoration-color: #000080\">│</span> <span style=\"color: #008080; text-decoration-color: #008080\">    *default </span><span style=\"color: #008000; text-decoration-color: #008000\">\"vector\"</span><span style=\"color: #008080; text-decoration-color: #008080\">*</span>                                                                                          <span style=\"color: #000080; text-decoration-color: #000080\">│</span>\n",
       "<span style=\"color: #000080; text-decoration-color: #000080\">│</span>                                                                                                                 <span style=\"color: #000080; text-decoration-color: #000080\">│</span>\n",
       "<span style=\"color: #000080; text-decoration-color: #000080\">│</span> <span style=\"color: #008080; text-decoration-color: #008080\">    - If not specified then the vector column is inferred from</span>                                                  <span style=\"color: #000080; text-decoration-color: #000080\">│</span>\n",
       "<span style=\"color: #000080; text-decoration-color: #000080\">│</span> <span style=\"color: #008080; text-decoration-color: #008080\">    the table schema</span>                                                                                            <span style=\"color: #000080; text-decoration-color: #000080\">│</span>\n",
       "<span style=\"color: #000080; text-decoration-color: #000080\">│</span>                                                                                                                 <span style=\"color: #000080; text-decoration-color: #000080\">│</span>\n",
       "<span style=\"color: #000080; text-decoration-color: #000080\">│</span> <span style=\"color: #008080; text-decoration-color: #008080\">    - If the table has multiple vector columns then the *vector_column_name*</span>                                    <span style=\"color: #000080; text-decoration-color: #000080\">│</span>\n",
       "<span style=\"color: #000080; text-decoration-color: #000080\">│</span> <span style=\"color: #008080; text-decoration-color: #008080\">    needs to be specified. Otherwise, an error is raised.</span>                                                       <span style=\"color: #000080; text-decoration-color: #000080\">│</span>\n",
       "<span style=\"color: #000080; text-decoration-color: #000080\">│</span> <span style=\"color: #008080; text-decoration-color: #008080\">query_type: str, default </span><span style=\"color: #008000; text-decoration-color: #008000\">\"auto\"</span>                                                                                 <span style=\"color: #000080; text-decoration-color: #000080\">│</span>\n",
       "<span style=\"color: #000080; text-decoration-color: #000080\">│</span> <span style=\"color: #008080; text-decoration-color: #008080\">    </span><span style=\"color: #008000; text-decoration-color: #008000\">\"vector\"</span><span style=\"color: #008080; text-decoration-color: #008080\">, </span><span style=\"color: #008000; text-decoration-color: #008000\">\"fts\"</span><span style=\"color: #008080; text-decoration-color: #008080\">, or </span><span style=\"color: #008000; text-decoration-color: #008000\">\"auto\"</span>                                                                                  <span style=\"color: #000080; text-decoration-color: #000080\">│</span>\n",
       "<span style=\"color: #000080; text-decoration-color: #000080\">│</span> <span style=\"color: #008080; text-decoration-color: #008080\">    If </span><span style=\"color: #008000; text-decoration-color: #008000\">\"auto\"</span><span style=\"color: #008080; text-decoration-color: #008080\"> then the query type is inferred from the query;</span>                                                   <span style=\"color: #000080; text-decoration-color: #000080\">│</span>\n",
       "<span style=\"color: #000080; text-decoration-color: #000080\">│</span> <span style=\"color: #008080; text-decoration-color: #008080\">    If `query` is a list/np.ndarray then the query type is </span><span style=\"color: #008000; text-decoration-color: #008000\">\"vector\"</span><span style=\"color: #008080; text-decoration-color: #008080\">;</span>                                            <span style=\"color: #000080; text-decoration-color: #000080\">│</span>\n",
       "<span style=\"color: #000080; text-decoration-color: #000080\">│</span> <span style=\"color: #008080; text-decoration-color: #008080\">    If `query` is a PIL.Image.Image then either do vector search</span>                                                <span style=\"color: #000080; text-decoration-color: #000080\">│</span>\n",
       "<span style=\"color: #000080; text-decoration-color: #000080\">│</span> <span style=\"color: #008080; text-decoration-color: #008080\">    or raise an error if no corresponding embedding function is found.</span>                                          <span style=\"color: #000080; text-decoration-color: #000080\">│</span>\n",
       "<span style=\"color: #000080; text-decoration-color: #000080\">│</span> <span style=\"color: #008080; text-decoration-color: #008080\">    If the `query` is a string, then the query type is </span><span style=\"color: #008000; text-decoration-color: #008000\">\"vector\"</span><span style=\"color: #008080; text-decoration-color: #008080\"> if the</span>                                          <span style=\"color: #000080; text-decoration-color: #000080\">│</span>\n",
       "<span style=\"color: #000080; text-decoration-color: #000080\">│</span> <span style=\"color: #008080; text-decoration-color: #008080\">    table has embedding functions, else the query type is </span><span style=\"color: #008000; text-decoration-color: #008000\">\"fts\"</span>                                                 <span style=\"color: #000080; text-decoration-color: #000080\">│</span>\n",
       "<span style=\"color: #000080; text-decoration-color: #000080\">│</span>                                                                                                                 <span style=\"color: #000080; text-decoration-color: #000080\">│</span>\n",
       "<span style=\"color: #000080; text-decoration-color: #000080\">│</span> <span style=\"color: #008080; text-decoration-color: #008080\">Returns</span>                                                                                                         <span style=\"color: #000080; text-decoration-color: #000080\">│</span>\n",
       "<span style=\"color: #000080; text-decoration-color: #000080\">│</span> <span style=\"color: #008080; text-decoration-color: #008080\">-------</span>                                                                                                         <span style=\"color: #000080; text-decoration-color: #000080\">│</span>\n",
       "<span style=\"color: #000080; text-decoration-color: #000080\">│</span> <span style=\"color: #008080; text-decoration-color: #008080\">LanceQueryBuilder</span>                                                                                               <span style=\"color: #000080; text-decoration-color: #000080\">│</span>\n",
       "<span style=\"color: #000080; text-decoration-color: #000080\">│</span> <span style=\"color: #008080; text-decoration-color: #008080\">    A query builder object representing the query.</span>                                                              <span style=\"color: #000080; text-decoration-color: #000080\">│</span>\n",
       "<span style=\"color: #000080; text-decoration-color: #000080\">│</span> <span style=\"color: #008080; text-decoration-color: #008080\">    Once executed, the query returns selected columns, the vector,</span>                                              <span style=\"color: #000080; text-decoration-color: #000080\">│</span>\n",
       "<span style=\"color: #000080; text-decoration-color: #000080\">│</span> <span style=\"color: #008080; text-decoration-color: #008080\">    and also the </span><span style=\"color: #008000; text-decoration-color: #008000\">\"_distance\"</span><span style=\"color: #008080; text-decoration-color: #008080\"> column which is the distance between the query</span>                                     <span style=\"color: #000080; text-decoration-color: #000080\">│</span>\n",
       "<span style=\"color: #000080; text-decoration-color: #000080\">│</span> <span style=\"color: #008080; text-decoration-color: #008080\">    vector and the returned vector.</span>                                                                             <span style=\"color: #000080; text-decoration-color: #000080\">│</span>\n",
       "<span style=\"color: #000080; text-decoration-color: #000080\">│</span>                                                                                                                 <span style=\"color: #000080; text-decoration-color: #000080\">│</span>\n",
       "<span style=\"color: #000080; text-decoration-color: #000080\">│</span> <span style=\"color: #008080; text-decoration-color: #008080; font-weight: bold\">27</span><span style=\"font-style: italic\"> attribute(s) not shown.</span> Run <span style=\"color: #800080; text-decoration-color: #800080; font-weight: bold\">inspect</span><span style=\"font-weight: bold\">(</span>inspect<span style=\"font-weight: bold\">)</span> for options.                                                    <span style=\"color: #000080; text-decoration-color: #000080\">│</span>\n",
       "<span style=\"color: #000080; text-decoration-color: #000080\">╰─────────────────────────────────────────────────────────────────────────────────────────────────────────────────╯</span>\n",
       "</pre>\n"
      ],
      "text/plain": [
       "\u001b[34m╭─\u001b[0m\u001b[34m \u001b[0m\u001b[1;34m<\u001b[0m\u001b[1;95mbound\u001b[0m\u001b[39m method LanceTable.search of \u001b[0m\u001b[1;35mLanceTable\u001b[0m\u001b[1;39m(\u001b[0m\u001b[33mconnection\u001b[0m\u001b[39m=\u001b[0m\u001b[1;35mLanceDBConnection\u001b[0m\u001b[1;39m(\u001b[0m\u001b[35m/home/msivanes/Documents/1Projects/\u001b[0m\u001b[34m─╮\u001b[0m\n",
       "\u001b[34m│\u001b[0m \u001b[3;96mdef \u001b[0m\u001b[1;31mLanceTable.search\u001b[0m\u001b[1m(\u001b[0mquery: \u001b[32m\"Optional\u001b[0m\u001b[32m[\u001b[0m\u001b[32mUnion\u001b[0m\u001b[32m[\u001b[0m\u001b[32mVEC, str, 'PIL.Image.Image', Tuple\u001b[0m\u001b[32m]\u001b[0m\u001b[32m]\u001b[0m\u001b[32m\"\u001b[0m = \u001b[3;35mNone\u001b[0m, vector_column_name:  \u001b[34m│\u001b[0m\n",
       "\u001b[34m│\u001b[0m \u001b[32m'Optional\u001b[0m\u001b[32m[\u001b[0m\u001b[32mstr\u001b[0m\u001b[32m]\u001b[0m\u001b[32m'\u001b[0m = \u001b[3;35mNone\u001b[0m, query_type: \u001b[32m'str'\u001b[0m = \u001b[32m'auto'\u001b[0m, ordering_field_name: \u001b[32m'Optional\u001b[0m\u001b[32m[\u001b[0m\u001b[32mstr\u001b[0m\u001b[32m]\u001b[0m\u001b[32m'\u001b[0m = \u001b[3;35mNone\u001b[0m\u001b[1m)\u001b[0m ->             \u001b[34m│\u001b[0m\n",
       "\u001b[34m│\u001b[0m \u001b[32m'LanceQueryBuilder'\u001b[0m:                                                                                            \u001b[34m│\u001b[0m\n",
       "\u001b[34m│\u001b[0m                                                                                                                 \u001b[34m│\u001b[0m\n",
       "\u001b[34m│\u001b[0m \u001b[36mCreate a search query to find the nearest neighbors\u001b[0m                                                             \u001b[34m│\u001b[0m\n",
       "\u001b[34m│\u001b[0m \u001b[36mof the given query vector. We currently support \u001b[0m\u001b[1;36m[\u001b[0m\u001b[36mvector search\u001b[0m\u001b[1;36m]\u001b[0m\u001b[1;36m[\u001b[0m\u001b[36msearch\u001b[0m\u001b[1;36m]\u001b[0m                                         \u001b[34m│\u001b[0m\n",
       "\u001b[34m│\u001b[0m \u001b[36mand \u001b[0m\u001b[1;36m[\u001b[0m\u001b[36mfull-text search\u001b[0m\u001b[1;36m]\u001b[0m\u001b[1;36m[\u001b[0m\u001b[36msearch\u001b[0m\u001b[1;36m]\u001b[0m\u001b[36m.\u001b[0m                                                                                 \u001b[34m│\u001b[0m\n",
       "\u001b[34m│\u001b[0m                                                                                                                 \u001b[34m│\u001b[0m\n",
       "\u001b[34m│\u001b[0m \u001b[36mExamples\u001b[0m                                                                                                        \u001b[34m│\u001b[0m\n",
       "\u001b[34m│\u001b[0m \u001b[36m--------\u001b[0m                                                                                                        \u001b[34m│\u001b[0m\n",
       "\u001b[34m│\u001b[0m \u001b[36m>>> import lancedb\u001b[0m                                                                                              \u001b[34m│\u001b[0m\n",
       "\u001b[34m│\u001b[0m \u001b[36m>>> db = \u001b[0m\u001b[1;35mlancedb.connect\u001b[0m\u001b[1;36m(\u001b[0m\u001b[32m\"./.lancedb\"\u001b[0m\u001b[1;36m)\u001b[0m                                                                          \u001b[34m│\u001b[0m\n",
       "\u001b[34m│\u001b[0m \u001b[36m>>> data = \u001b[0m\u001b[1;36m[\u001b[0m                                                                                                    \u001b[34m│\u001b[0m\n",
       "\u001b[34m│\u001b[0m \u001b[33m...\u001b[0m\u001b[36m    \u001b[0m\u001b[1;36m{\u001b[0m\u001b[32m\"original_width\"\u001b[0m\u001b[36m: \u001b[0m\u001b[1;36m100\u001b[0m\u001b[36m, \u001b[0m\u001b[32m\"caption\"\u001b[0m\u001b[36m: \u001b[0m\u001b[32m\"bar\"\u001b[0m\u001b[36m, \u001b[0m\u001b[32m\"vector\"\u001b[0m\u001b[36m: \u001b[0m\u001b[1;36m[\u001b[0m\u001b[1;36m0.1\u001b[0m\u001b[36m, \u001b[0m\u001b[1;36m2.3\u001b[0m\u001b[36m, \u001b[0m\u001b[1;36m4.5\u001b[0m\u001b[1;36m]\u001b[0m\u001b[1;36m}\u001b[0m\u001b[36m,\u001b[0m                                    \u001b[34m│\u001b[0m\n",
       "\u001b[34m│\u001b[0m \u001b[33m...\u001b[0m\u001b[36m    \u001b[0m\u001b[1;36m{\u001b[0m\u001b[32m\"original_width\"\u001b[0m\u001b[36m: \u001b[0m\u001b[1;36m2000\u001b[0m\u001b[36m, \u001b[0m\u001b[32m\"caption\"\u001b[0m\u001b[36m: \u001b[0m\u001b[32m\"foo\"\u001b[0m\u001b[36m,  \u001b[0m\u001b[32m\"vector\"\u001b[0m\u001b[36m: \u001b[0m\u001b[1;36m[\u001b[0m\u001b[1;36m0.5\u001b[0m\u001b[36m, \u001b[0m\u001b[1;36m3.4\u001b[0m\u001b[36m, \u001b[0m\u001b[1;36m1.3\u001b[0m\u001b[1;36m]\u001b[0m\u001b[1;36m}\u001b[0m\u001b[36m,\u001b[0m                                  \u001b[34m│\u001b[0m\n",
       "\u001b[34m│\u001b[0m \u001b[33m...\u001b[0m\u001b[36m    \u001b[0m\u001b[1;36m{\u001b[0m\u001b[32m\"original_width\"\u001b[0m\u001b[36m: \u001b[0m\u001b[1;36m3000\u001b[0m\u001b[36m, \u001b[0m\u001b[32m\"caption\"\u001b[0m\u001b[36m: \u001b[0m\u001b[32m\"test\"\u001b[0m\u001b[36m, \u001b[0m\u001b[32m\"vector\"\u001b[0m\u001b[36m: \u001b[0m\u001b[1;36m[\u001b[0m\u001b[1;36m0.3\u001b[0m\u001b[36m, \u001b[0m\u001b[1;36m6.2\u001b[0m\u001b[36m, \u001b[0m\u001b[1;36m2.6\u001b[0m\u001b[1;36m]\u001b[0m\u001b[1;36m}\u001b[0m                                   \u001b[34m│\u001b[0m\n",
       "\u001b[34m│\u001b[0m \u001b[33m...\u001b[0m\u001b[36m \u001b[0m\u001b[1;36m]\u001b[0m                                                                                                           \u001b[34m│\u001b[0m\n",
       "\u001b[34m│\u001b[0m \u001b[36m>>> table = \u001b[0m\u001b[1;35mdb.create_table\u001b[0m\u001b[1;36m(\u001b[0m\u001b[32m\"my_table\"\u001b[0m\u001b[36m, data\u001b[0m\u001b[1;36m)\u001b[0m                                                                   \u001b[34m│\u001b[0m\n",
       "\u001b[34m│\u001b[0m \u001b[36m>>> query = \u001b[0m\u001b[1;36m[\u001b[0m\u001b[1;36m0.4\u001b[0m\u001b[36m, \u001b[0m\u001b[1;36m1.4\u001b[0m\u001b[36m, \u001b[0m\u001b[1;36m2.4\u001b[0m\u001b[1;36m]\u001b[0m                                                                                     \u001b[34m│\u001b[0m\n",
       "\u001b[34m│\u001b[0m \u001b[36m>>> \u001b[0m\u001b[1;36m(\u001b[0m\u001b[1;35mtable.search\u001b[0m\u001b[1;36m(\u001b[0m\u001b[36mquery\u001b[0m\u001b[1;36m)\u001b[0m                                                                                        \u001b[34m│\u001b[0m\n",
       "\u001b[34m│\u001b[0m \u001b[33m...\u001b[0m\u001b[36m     \u001b[0m\u001b[1;35m.where\u001b[0m\u001b[1;36m(\u001b[0m\u001b[32m\"original_width > 1000\"\u001b[0m\u001b[36m, \u001b[0m\u001b[33mprefilter\u001b[0m\u001b[36m=\u001b[0m\u001b[3;92mTrue\u001b[0m\u001b[1;36m)\u001b[0m                                                         \u001b[34m│\u001b[0m\n",
       "\u001b[34m│\u001b[0m \u001b[33m...\u001b[0m\u001b[36m     \u001b[0m\u001b[1;35m.select\u001b[0m\u001b[1;36m(\u001b[0m\u001b[1;36m[\u001b[0m\u001b[32m\"caption\"\u001b[0m\u001b[36m, \u001b[0m\u001b[32m\"original_width\"\u001b[0m\u001b[36m, \u001b[0m\u001b[32m\"vector\"\u001b[0m\u001b[1;36m]\u001b[0m\u001b[1;36m)\u001b[0m                                                        \u001b[34m│\u001b[0m\n",
       "\u001b[34m│\u001b[0m \u001b[33m...\u001b[0m\u001b[36m     \u001b[0m\u001b[1;35m.limit\u001b[0m\u001b[1;36m(\u001b[0m\u001b[1;36m2\u001b[0m\u001b[1;36m)\u001b[0m                                                                                               \u001b[34m│\u001b[0m\n",
       "\u001b[34m│\u001b[0m \u001b[33m...\u001b[0m\u001b[36m     \u001b[0m\u001b[1;35m.to_pandas\u001b[0m\u001b[1;36m(\u001b[0m\u001b[1;36m)\u001b[0m\u001b[1;36m)\u001b[0m                                                                                           \u001b[34m│\u001b[0m\n",
       "\u001b[34m│\u001b[0m \u001b[36m  caption  original_width           vector  _distance\u001b[0m                                                           \u001b[34m│\u001b[0m\n",
       "\u001b[34m│\u001b[0m \u001b[1;36m0\u001b[0m\u001b[36m     foo            \u001b[0m\u001b[1;36m2000\u001b[0m\u001b[36m  \u001b[0m\u001b[1;36m[\u001b[0m\u001b[1;36m0.5\u001b[0m\u001b[36m, \u001b[0m\u001b[1;36m3.4\u001b[0m\u001b[36m, \u001b[0m\u001b[1;36m1.3\u001b[0m\u001b[1;36m]\u001b[0m\u001b[36m   \u001b[0m\u001b[1;36m5.220000\u001b[0m                                                           \u001b[34m│\u001b[0m\n",
       "\u001b[34m│\u001b[0m \u001b[1;36m1\u001b[0m\u001b[36m    test            \u001b[0m\u001b[1;36m3000\u001b[0m\u001b[36m  \u001b[0m\u001b[1;36m[\u001b[0m\u001b[1;36m0.3\u001b[0m\u001b[36m, \u001b[0m\u001b[1;36m6.2\u001b[0m\u001b[36m, \u001b[0m\u001b[1;36m2.6\u001b[0m\u001b[1;36m]\u001b[0m\u001b[36m  \u001b[0m\u001b[1;36m23.089996\u001b[0m                                                           \u001b[34m│\u001b[0m\n",
       "\u001b[34m│\u001b[0m                                                                                                                 \u001b[34m│\u001b[0m\n",
       "\u001b[34m│\u001b[0m \u001b[36mParameters\u001b[0m                                                                                                      \u001b[34m│\u001b[0m\n",
       "\u001b[34m│\u001b[0m \u001b[36m----------\u001b[0m                                                                                                      \u001b[34m│\u001b[0m\n",
       "\u001b[34m│\u001b[0m \u001b[36mquery: list/np.ndarray/str/PIL.Image.Image, default \u001b[0m\u001b[3;35mNone\u001b[0m                                                        \u001b[34m│\u001b[0m\n",
       "\u001b[34m│\u001b[0m \u001b[36m    The targetted vector to search for.\u001b[0m                                                                         \u001b[34m│\u001b[0m\n",
       "\u001b[34m│\u001b[0m                                                                                                                 \u001b[34m│\u001b[0m\n",
       "\u001b[34m│\u001b[0m \u001b[36m    - *default \u001b[0m\u001b[3;35mNone\u001b[0m\u001b[36m*.\u001b[0m                                                                                           \u001b[34m│\u001b[0m\n",
       "\u001b[34m│\u001b[0m \u001b[36m    Acceptable types are: list, np.ndarray, PIL.Image.Image\u001b[0m                                                     \u001b[34m│\u001b[0m\n",
       "\u001b[34m│\u001b[0m                                                                                                                 \u001b[34m│\u001b[0m\n",
       "\u001b[34m│\u001b[0m \u001b[36m    - If \u001b[0m\u001b[3;35mNone\u001b[0m\u001b[36m then the select/\u001b[0m\u001b[1;36m[\u001b[0m\u001b[36mwhere\u001b[0m\u001b[1;36m]\u001b[0m\u001b[1;36m[\u001b[0m\u001b[36msql\u001b[0m\u001b[1;36m]\u001b[0m\u001b[35m/\u001b[0m\u001b[95mlimit\u001b[0m\u001b[36m clauses are applied\u001b[0m                                            \u001b[34m│\u001b[0m\n",
       "\u001b[34m│\u001b[0m \u001b[36m    to filter the table\u001b[0m                                                                                         \u001b[34m│\u001b[0m\n",
       "\u001b[34m│\u001b[0m \u001b[36mvector_column_name: str, optional\u001b[0m                                                                               \u001b[34m│\u001b[0m\n",
       "\u001b[34m│\u001b[0m \u001b[36m    The name of the vector column to search.\u001b[0m                                                                    \u001b[34m│\u001b[0m\n",
       "\u001b[34m│\u001b[0m                                                                                                                 \u001b[34m│\u001b[0m\n",
       "\u001b[34m│\u001b[0m \u001b[36m    The vector column needs to be a pyarrow fixed size list type\u001b[0m                                                \u001b[34m│\u001b[0m\n",
       "\u001b[34m│\u001b[0m \u001b[36m    *default \u001b[0m\u001b[32m\"vector\"\u001b[0m\u001b[36m*\u001b[0m                                                                                          \u001b[34m│\u001b[0m\n",
       "\u001b[34m│\u001b[0m                                                                                                                 \u001b[34m│\u001b[0m\n",
       "\u001b[34m│\u001b[0m \u001b[36m    - If not specified then the vector column is inferred from\u001b[0m                                                  \u001b[34m│\u001b[0m\n",
       "\u001b[34m│\u001b[0m \u001b[36m    the table schema\u001b[0m                                                                                            \u001b[34m│\u001b[0m\n",
       "\u001b[34m│\u001b[0m                                                                                                                 \u001b[34m│\u001b[0m\n",
       "\u001b[34m│\u001b[0m \u001b[36m    - If the table has multiple vector columns then the *vector_column_name*\u001b[0m                                    \u001b[34m│\u001b[0m\n",
       "\u001b[34m│\u001b[0m \u001b[36m    needs to be specified. Otherwise, an error is raised.\u001b[0m                                                       \u001b[34m│\u001b[0m\n",
       "\u001b[34m│\u001b[0m \u001b[36mquery_type: str, default \u001b[0m\u001b[32m\"auto\"\u001b[0m                                                                                 \u001b[34m│\u001b[0m\n",
       "\u001b[34m│\u001b[0m \u001b[36m    \u001b[0m\u001b[32m\"vector\"\u001b[0m\u001b[36m, \u001b[0m\u001b[32m\"fts\"\u001b[0m\u001b[36m, or \u001b[0m\u001b[32m\"auto\"\u001b[0m                                                                                  \u001b[34m│\u001b[0m\n",
       "\u001b[34m│\u001b[0m \u001b[36m    If \u001b[0m\u001b[32m\"auto\"\u001b[0m\u001b[36m then the query type is inferred from the query;\u001b[0m                                                   \u001b[34m│\u001b[0m\n",
       "\u001b[34m│\u001b[0m \u001b[36m    If `query` is a list/np.ndarray then the query type is \u001b[0m\u001b[32m\"vector\"\u001b[0m\u001b[36m;\u001b[0m                                            \u001b[34m│\u001b[0m\n",
       "\u001b[34m│\u001b[0m \u001b[36m    If `query` is a PIL.Image.Image then either do vector search\u001b[0m                                                \u001b[34m│\u001b[0m\n",
       "\u001b[34m│\u001b[0m \u001b[36m    or raise an error if no corresponding embedding function is found.\u001b[0m                                          \u001b[34m│\u001b[0m\n",
       "\u001b[34m│\u001b[0m \u001b[36m    If the `query` is a string, then the query type is \u001b[0m\u001b[32m\"vector\"\u001b[0m\u001b[36m if the\u001b[0m                                          \u001b[34m│\u001b[0m\n",
       "\u001b[34m│\u001b[0m \u001b[36m    table has embedding functions, else the query type is \u001b[0m\u001b[32m\"fts\"\u001b[0m                                                 \u001b[34m│\u001b[0m\n",
       "\u001b[34m│\u001b[0m                                                                                                                 \u001b[34m│\u001b[0m\n",
       "\u001b[34m│\u001b[0m \u001b[36mReturns\u001b[0m                                                                                                         \u001b[34m│\u001b[0m\n",
       "\u001b[34m│\u001b[0m \u001b[36m-------\u001b[0m                                                                                                         \u001b[34m│\u001b[0m\n",
       "\u001b[34m│\u001b[0m \u001b[36mLanceQueryBuilder\u001b[0m                                                                                               \u001b[34m│\u001b[0m\n",
       "\u001b[34m│\u001b[0m \u001b[36m    A query builder object representing the query.\u001b[0m                                                              \u001b[34m│\u001b[0m\n",
       "\u001b[34m│\u001b[0m \u001b[36m    Once executed, the query returns selected columns, the vector,\u001b[0m                                              \u001b[34m│\u001b[0m\n",
       "\u001b[34m│\u001b[0m \u001b[36m    and also the \u001b[0m\u001b[32m\"_distance\"\u001b[0m\u001b[36m column which is the distance between the query\u001b[0m                                     \u001b[34m│\u001b[0m\n",
       "\u001b[34m│\u001b[0m \u001b[36m    vector and the returned vector.\u001b[0m                                                                             \u001b[34m│\u001b[0m\n",
       "\u001b[34m│\u001b[0m                                                                                                                 \u001b[34m│\u001b[0m\n",
       "\u001b[34m│\u001b[0m \u001b[1;36m27\u001b[0m\u001b[3m attribute(s) not shown.\u001b[0m Run \u001b[1;35minspect\u001b[0m\u001b[1m(\u001b[0minspect\u001b[1m)\u001b[0m for options.                                                    \u001b[34m│\u001b[0m\n",
       "\u001b[34m╰─────────────────────────────────────────────────────────────────────────────────────────────────────────────────╯\u001b[0m\n"
      ]
     },
     "metadata": {},
     "output_type": "display_data"
    }
   ],
   "source": [
    "rinspect(reviews_table.search, help=True)"
   ]
  },
  {
   "cell_type": "code",
   "execution_count": 12,
   "metadata": {},
   "outputs": [
    {
     "data": {
      "text/plain": [
       "'How good is the battery life on this cordless drill?'"
      ]
     },
     "execution_count": 12,
     "metadata": {},
     "output_type": "execute_result"
    }
   ],
   "source": [
    "q.question"
   ]
  },
  {
   "cell_type": "code",
   "execution_count": 13,
   "metadata": {},
   "outputs": [
    {
     "data": {
      "text/html": [
       "<div>\n",
       "<style scoped>\n",
       "    .dataframe tbody tr th:only-of-type {\n",
       "        vertical-align: middle;\n",
       "    }\n",
       "\n",
       "    .dataframe tbody tr th {\n",
       "        vertical-align: top;\n",
       "    }\n",
       "\n",
       "    .dataframe thead th {\n",
       "        text-align: right;\n",
       "    }\n",
       "</style>\n",
       "<table border=\"1\" class=\"dataframe\">\n",
       "  <thead>\n",
       "    <tr style=\"text-align: right;\">\n",
       "      <th></th>\n",
       "      <th>id</th>\n",
       "      <th>review</th>\n",
       "      <th>score</th>\n",
       "    </tr>\n",
       "  </thead>\n",
       "  <tbody>\n",
       "    <tr>\n",
       "      <th>0</th>\n",
       "      <td>3</td>\n",
       "      <td>I purchased this cordless drill about a year ago for use in my small woodworking shop, and it has exceeded my expectations. The 18V lithium-ion battery prov...</td>\n",
       "      <td>7.032466</td>\n",
       "    </tr>\n",
       "    <tr>\n",
       "      <th>1</th>\n",
       "      <td>4</td>\n",
       "      <td>I've been using the Cordless Drill for about six months now, and it has exceeded my expectations. The compact design makes it easy to use in tight spaces, w...</td>\n",
       "      <td>6.986802</td>\n",
       "    </tr>\n",
       "    <tr>\n",
       "      <th>2</th>\n",
       "      <td>2</td>\n",
       "      <td>I've been using this cordless drill for the past six months on various projects around the house, and I am thoroughly impressed. The 18V battery provides in...</td>\n",
       "      <td>6.564123</td>\n",
       "    </tr>\n",
       "    <tr>\n",
       "      <th>3</th>\n",
       "      <td>1</td>\n",
       "      <td>Purchased this cordless drill a year ago and it has not disappointed. The 20 torque settings provide great control and precision, especially on delicate tas...</td>\n",
       "      <td>4.909324</td>\n",
       "    </tr>\n",
       "    <tr>\n",
       "      <th>4</th>\n",
       "      <td>5</td>\n",
       "      <td>I purchased this Cordless Drill a year ago, and it has quickly become one of my most trusted tools. The precision is top-notch, allowing me to drill perfect...</td>\n",
       "      <td>4.146757</td>\n",
       "    </tr>\n",
       "  </tbody>\n",
       "</table>\n",
       "</div>"
      ],
      "text/plain": [
       "  id  \\\n",
       "0  3   \n",
       "1  4   \n",
       "2  2   \n",
       "3  1   \n",
       "4  5   \n",
       "\n",
       "                                                                                                                                                            review  \\\n",
       "0  I purchased this cordless drill about a year ago for use in my small woodworking shop, and it has exceeded my expectations. The 18V lithium-ion battery prov...   \n",
       "1  I've been using the Cordless Drill for about six months now, and it has exceeded my expectations. The compact design makes it easy to use in tight spaces, w...   \n",
       "2  I've been using this cordless drill for the past six months on various projects around the house, and I am thoroughly impressed. The 18V battery provides in...   \n",
       "3  Purchased this cordless drill a year ago and it has not disappointed. The 20 torque settings provide great control and precision, especially on delicate tas...   \n",
       "4  I purchased this Cordless Drill a year ago, and it has quickly become one of my most trusted tools. The precision is top-notch, allowing me to drill perfect...   \n",
       "\n",
       "      score  \n",
       "0  7.032466  \n",
       "1  6.986802  \n",
       "2  6.564123  \n",
       "3  4.909324  \n",
       "4  4.146757  "
      ]
     },
     "execution_count": 13,
     "metadata": {},
     "output_type": "execute_result"
    }
   ],
   "source": [
    "reviews_table.search(q.question, n_return_vals).select(['id', 'review']).limit(n_return_vals).to_pandas()"
   ]
  },
  {
   "cell_type": "code",
   "execution_count": 14,
   "metadata": {},
   "outputs": [],
   "source": [
    "results = (reviews_table.search(q.question, n_return_vals).select(['id', 'review']).limit(n_return_vals).to_pandas())"
   ]
  },
  {
   "cell_type": "code",
   "execution_count": 15,
   "metadata": {},
   "outputs": [
    {
     "data": {
      "text/html": [
       "<div>\n",
       "<style scoped>\n",
       "    .dataframe tbody tr th:only-of-type {\n",
       "        vertical-align: middle;\n",
       "    }\n",
       "\n",
       "    .dataframe tbody tr th {\n",
       "        vertical-align: top;\n",
       "    }\n",
       "\n",
       "    .dataframe thead th {\n",
       "        text-align: right;\n",
       "    }\n",
       "</style>\n",
       "<table border=\"1\" class=\"dataframe\">\n",
       "  <thead>\n",
       "    <tr style=\"text-align: right;\">\n",
       "      <th></th>\n",
       "      <th>id</th>\n",
       "      <th>review</th>\n",
       "      <th>score</th>\n",
       "    </tr>\n",
       "  </thead>\n",
       "  <tbody>\n",
       "    <tr>\n",
       "      <th>0</th>\n",
       "      <td>3</td>\n",
       "      <td>I purchased this cordless drill about a year ago for use in my small woodworking shop, and it has exceeded my expectations. The 18V lithium-ion battery prov...</td>\n",
       "      <td>7.032466</td>\n",
       "    </tr>\n",
       "    <tr>\n",
       "      <th>1</th>\n",
       "      <td>4</td>\n",
       "      <td>I've been using the Cordless Drill for about six months now, and it has exceeded my expectations. The compact design makes it easy to use in tight spaces, w...</td>\n",
       "      <td>6.986802</td>\n",
       "    </tr>\n",
       "    <tr>\n",
       "      <th>2</th>\n",
       "      <td>2</td>\n",
       "      <td>I've been using this cordless drill for the past six months on various projects around the house, and I am thoroughly impressed. The 18V battery provides in...</td>\n",
       "      <td>6.564123</td>\n",
       "    </tr>\n",
       "    <tr>\n",
       "      <th>3</th>\n",
       "      <td>1</td>\n",
       "      <td>Purchased this cordless drill a year ago and it has not disappointed. The 20 torque settings provide great control and precision, especially on delicate tas...</td>\n",
       "      <td>4.909324</td>\n",
       "    </tr>\n",
       "    <tr>\n",
       "      <th>4</th>\n",
       "      <td>5</td>\n",
       "      <td>I purchased this Cordless Drill a year ago, and it has quickly become one of my most trusted tools. The precision is top-notch, allowing me to drill perfect...</td>\n",
       "      <td>4.146757</td>\n",
       "    </tr>\n",
       "  </tbody>\n",
       "</table>\n",
       "</div>"
      ],
      "text/plain": [
       "  id  \\\n",
       "0  3   \n",
       "1  4   \n",
       "2  2   \n",
       "3  1   \n",
       "4  5   \n",
       "\n",
       "                                                                                                                                                            review  \\\n",
       "0  I purchased this cordless drill about a year ago for use in my small woodworking shop, and it has exceeded my expectations. The 18V lithium-ion battery prov...   \n",
       "1  I've been using the Cordless Drill for about six months now, and it has exceeded my expectations. The compact design makes it easy to use in tight spaces, w...   \n",
       "2  I've been using this cordless drill for the past six months on various projects around the house, and I am thoroughly impressed. The 18V battery provides in...   \n",
       "3  Purchased this cordless drill a year ago and it has not disappointed. The 20 torque settings provide great control and precision, especially on delicate tas...   \n",
       "4  I purchased this Cordless Drill a year ago, and it has quickly become one of my most trusted tools. The precision is top-notch, allowing me to drill perfect...   \n",
       "\n",
       "      score  \n",
       "0  7.032466  \n",
       "1  6.986802  \n",
       "2  6.564123  \n",
       "3  4.909324  \n",
       "4  4.146757  "
      ]
     },
     "execution_count": 15,
     "metadata": {},
     "output_type": "execute_result"
    }
   ],
   "source": [
    "results"
   ]
  },
  {
   "cell_type": "code",
   "execution_count": 16,
   "metadata": {},
   "outputs": [],
   "source": [
    "results = (reviews_table.search(q.question, n_return_vals).select(['id', 'review']).limit(n_return_vals).to_list())"
   ]
  },
  {
   "cell_type": "code",
   "execution_count": 17,
   "metadata": {},
   "outputs": [
    {
     "data": {
      "text/plain": [
       "('3', '0')"
      ]
     },
     "execution_count": 17,
     "metadata": {},
     "output_type": "execute_result"
    }
   ],
   "source": [
    "results[0]['id'], q.chunk_id"
   ]
  },
  {
   "cell_type": "code",
   "execution_count": 18,
   "metadata": {},
   "outputs": [
    {
     "data": {
      "text/plain": [
       "[False, False, False, False, False]"
      ]
     },
     "execution_count": 18,
     "metadata": {},
     "output_type": "execute_result"
    }
   ],
   "source": [
    "[str(q.chunk_id) == str(r[\"id\"]) for r in results]"
   ]
  },
  {
   "cell_type": "code",
   "execution_count": 19,
   "metadata": {},
   "outputs": [],
   "source": [
    "def run_simple_request(q: EvalQuestion, n_return_vals=5):\n",
    "    results = (\n",
    "        reviews_table.search(q.question).select([\"id\"]).limit(n_return_vals).to_list()\n",
    "    )\n",
    "    return [str(q.chunk_id) == str(r[\"id\"]) for r in results]"
   ]
  },
  {
   "cell_type": "markdown",
   "metadata": {},
   "source": [
    "Now do the benchmarking. For simplicity, we just compare retrieval sizes with a simple semantic search in this cell."
   ]
  },
  {
   "cell_type": "markdown",
   "metadata": {},
   "source": [
    "Precision = Did we retrieve only the relevant documents?  (Out of all the documents retrieved how many are relevant)\n",
    "\n",
    "Recall = Did we retrieve all the relevant documents? (Out of all the relevant documents how many did we retrieve)"
   ]
  },
  {
   "cell_type": "markdown",
   "metadata": {},
   "source": [
    "See https://www.perplexity.ai/search/explain-this-code-with-an-exam-vlIBEgF.QnWY_nbPnIeMbw"
   ]
  },
  {
   "cell_type": "code",
   "execution_count": 20,
   "metadata": {},
   "outputs": [],
   "source": [
    "def score(hits):\n",
    "    # This implementation assumes\n",
    "    n_retrieval_requests = len(hits)\n",
    "    total_retrievals = sum(len(l) for l in hits)\n",
    "    true_positives = sum(sum(sublist) for sublist in hits)\n",
    "    precision = true_positives / total_retrievals if total_retrievals > 0 else 0\n",
    "    recall = true_positives / n_retrieval_requests if n_retrieval_requests > 0 else 0\n",
    "    return {\"precision\": precision, \"recall\": recall}\n"
   ]
  },
  {
   "cell_type": "code",
   "execution_count": 35,
   "metadata": {},
   "outputs": [],
   "source": [
    "sample_eval_questions = eval_questions[:10]"
   ]
  },
  {
   "cell_type": "code",
   "execution_count": 36,
   "metadata": {},
   "outputs": [],
   "source": [
    "def score_simple_search(n_to_retrieve: List[int]) -> Dict[str, float]:\n",
    "    # parallelize to speed this up 5-10X\n",
    "    with ThreadPoolExecutor() as executor:\n",
    "        hits = list(\n",
    "            executor.map(lambda q: run_simple_request(q, n_to_retrieve), sample_eval_questions)\n",
    "        )\n",
    "    return score(hits)"
   ]
  },
  {
   "cell_type": "code",
   "execution_count": 39,
   "metadata": {},
   "outputs": [
    {
     "data": {
      "text/html": [
       "<div>\n",
       "<style scoped>\n",
       "    .dataframe tbody tr th:only-of-type {\n",
       "        vertical-align: middle;\n",
       "    }\n",
       "\n",
       "    .dataframe tbody tr th {\n",
       "        vertical-align: top;\n",
       "    }\n",
       "\n",
       "    .dataframe thead th {\n",
       "        text-align: right;\n",
       "    }\n",
       "</style>\n",
       "<table border=\"1\" class=\"dataframe\">\n",
       "  <thead>\n",
       "    <tr style=\"text-align: right;\">\n",
       "      <th></th>\n",
       "      <th>precision</th>\n",
       "      <th>recall</th>\n",
       "      <th>n_retrieved</th>\n",
       "    </tr>\n",
       "  </thead>\n",
       "  <tbody>\n",
       "    <tr>\n",
       "      <th>0</th>\n",
       "      <td>0.180000</td>\n",
       "      <td>0.9</td>\n",
       "      <td>5</td>\n",
       "    </tr>\n",
       "    <tr>\n",
       "      <th>1</th>\n",
       "      <td>0.100000</td>\n",
       "      <td>1.0</td>\n",
       "      <td>10</td>\n",
       "    </tr>\n",
       "    <tr>\n",
       "      <th>2</th>\n",
       "      <td>0.055556</td>\n",
       "      <td>1.0</td>\n",
       "      <td>20</td>\n",
       "    </tr>\n",
       "  </tbody>\n",
       "</table>\n",
       "</div>"
      ],
      "text/plain": [
       "   precision  recall  n_retrieved\n",
       "0   0.180000     0.9            5\n",
       "1   0.100000     1.0           10\n",
       "2   0.055556     1.0           20"
      ]
     },
     "execution_count": 39,
     "metadata": {},
     "output_type": "execute_result"
    }
   ],
   "source": [
    "k_to_retrieve = [5, 10, 20]\n",
    "scores = pd.DataFrame([score_simple_search(n) for n in k_to_retrieve])\n",
    "scores[\"n_retrieved\"] = k_to_retrieve\n",
    "scores"
   ]
  },
  {
   "cell_type": "code",
   "execution_count": 5,
   "metadata": {},
   "outputs": [
    {
     "data": {
      "text/html": [
       "<div>\n",
       "<style scoped>\n",
       "    .dataframe tbody tr th:only-of-type {\n",
       "        vertical-align: middle;\n",
       "    }\n",
       "\n",
       "    .dataframe tbody tr th {\n",
       "        vertical-align: top;\n",
       "    }\n",
       "\n",
       "    .dataframe thead th {\n",
       "        text-align: right;\n",
       "    }\n",
       "</style>\n",
       "<table border=\"1\" class=\"dataframe\">\n",
       "  <thead>\n",
       "    <tr style=\"text-align: right;\">\n",
       "      <th></th>\n",
       "      <th>precision</th>\n",
       "      <th>recall</th>\n",
       "      <th>n_retrieved</th>\n",
       "    </tr>\n",
       "  </thead>\n",
       "  <tbody>\n",
       "    <tr>\n",
       "      <th>0</th>\n",
       "      <td>0.101410</td>\n",
       "      <td>0.507048</td>\n",
       "      <td>5</td>\n",
       "    </tr>\n",
       "    <tr>\n",
       "      <th>1</th>\n",
       "      <td>0.070749</td>\n",
       "      <td>0.707489</td>\n",
       "      <td>10</td>\n",
       "    </tr>\n",
       "    <tr>\n",
       "      <th>2</th>\n",
       "      <td>0.044361</td>\n",
       "      <td>0.887225</td>\n",
       "      <td>20</td>\n",
       "    </tr>\n",
       "  </tbody>\n",
       "</table>\n",
       "</div>"
      ],
      "text/plain": [
       "   precision    recall  n_retrieved\n",
       "0   0.101410  0.507048            5\n",
       "1   0.070749  0.707489           10\n",
       "2   0.044361  0.887225           20"
      ]
     },
     "execution_count": 5,
     "metadata": {},
     "output_type": "execute_result"
    }
   ],
   "source": [
    "def score(hits):\n",
    "    # This implementation assumes\n",
    "    n_retrieval_requests = len(hits)\n",
    "    total_retrievals = sum(len(l) for l in hits)\n",
    "    true_positives = sum(sum(sublist) for sublist in hits)\n",
    "    precision = true_positives / total_retrievals if total_retrievals > 0 else 0\n",
    "    recall = true_positives / n_retrieval_requests if n_retrieval_requests > 0 else 0\n",
    "    return {\"precision\": precision, \"recall\": recall}\n",
    "\n",
    "\n",
    "def score_simple_search(n_to_retrieve: List[int]) -> Dict[str, float]:\n",
    "    # parallelize to speed this up 5-10X\n",
    "    with ThreadPoolExecutor() as executor:\n",
    "        hits = list(\n",
    "            executor.map(lambda q: run_simple_request(q, n_to_retrieve), eval_questions)\n",
    "        )\n",
    "    return score(hits)\n",
    "\n",
    "\n",
    "k_to_retrieve = [5, 10, 20]\n",
    "scores = pd.DataFrame([score_simple_search(n) for n in k_to_retrieve])\n",
    "scores[\"n_retrieved\"] = k_to_retrieve\n",
    "scores"
   ]
  },
  {
   "cell_type": "markdown",
   "metadata": {},
   "source": [
    "If you have Cohere set up, you can see uf a reranker improves results (we'll talk more about rerankers in the coming weeks)."
   ]
  },
  {
   "cell_type": "code",
   "execution_count": 41,
   "metadata": {},
   "outputs": [],
   "source": [
    "assert os.environ.get('COHERE_API_KEY')"
   ]
  },
  {
   "cell_type": "code",
   "execution_count": 46,
   "metadata": {},
   "outputs": [],
   "source": [
    "import cohere\n",
    "from diskcache import Cache\n",
    "cohere_api_key = os.environ[\"COHERE_API_KEY\"]"
   ]
  },
  {
   "cell_type": "code",
   "execution_count": 47,
   "metadata": {},
   "outputs": [],
   "source": [
    "# Use diskcache to reduce re-running in case of error (or addition of new data)\n",
    "cache = Cache(\"./cohere_cache\")"
   ]
  },
  {
   "cell_type": "code",
   "execution_count": 49,
   "metadata": {},
   "outputs": [],
   "source": [
    "q, n_return_vals, n_to_rerank = eval_questions[0], 5, 40"
   ]
  },
  {
   "cell_type": "code",
   "execution_count": 51,
   "metadata": {},
   "outputs": [
    {
     "data": {
      "text/html": [
       "<div>\n",
       "<style scoped>\n",
       "    .dataframe tbody tr th:only-of-type {\n",
       "        vertical-align: middle;\n",
       "    }\n",
       "\n",
       "    .dataframe tbody tr th {\n",
       "        vertical-align: top;\n",
       "    }\n",
       "\n",
       "    .dataframe thead th {\n",
       "        text-align: right;\n",
       "    }\n",
       "</style>\n",
       "<table border=\"1\" class=\"dataframe\">\n",
       "  <thead>\n",
       "    <tr style=\"text-align: right;\">\n",
       "      <th></th>\n",
       "      <th>id</th>\n",
       "      <th>review</th>\n",
       "      <th>_distance</th>\n",
       "    </tr>\n",
       "  </thead>\n",
       "  <tbody>\n",
       "    <tr>\n",
       "      <th>0</th>\n",
       "      <td>4</td>\n",
       "      <td>I've been using the Cordless Drill for about six months now, and it has exceeded my expectations. The compact design makes it easy to use in tight spaces, w...</td>\n",
       "      <td>0.604516</td>\n",
       "    </tr>\n",
       "    <tr>\n",
       "      <th>1</th>\n",
       "      <td>2</td>\n",
       "      <td>I've been using this cordless drill for the past six months on various projects around the house, and I am thoroughly impressed. The 18V battery provides in...</td>\n",
       "      <td>0.609694</td>\n",
       "    </tr>\n",
       "    <tr>\n",
       "      <th>2</th>\n",
       "      <td>3</td>\n",
       "      <td>I purchased this cordless drill about a year ago for use in my small woodworking shop, and it has exceeded my expectations. The 18V lithium-ion battery prov...</td>\n",
       "      <td>0.653324</td>\n",
       "    </tr>\n",
       "    <tr>\n",
       "      <th>3</th>\n",
       "      <td>0</td>\n",
       "      <td>I've been using this cordless drill for the past 6 months, and it's been a game-changer for my DIY projects. The 20 torque settings allow me to adjust the p...</td>\n",
       "      <td>0.659256</td>\n",
       "    </tr>\n",
       "    <tr>\n",
       "      <th>4</th>\n",
       "      <td>1</td>\n",
       "      <td>Purchased this cordless drill a year ago and it has not disappointed. The 20 torque settings provide great control and precision, especially on delicate tas...</td>\n",
       "      <td>0.704209</td>\n",
       "    </tr>\n",
       "  </tbody>\n",
       "</table>\n",
       "</div>"
      ],
      "text/plain": [
       "  id  \\\n",
       "0  4   \n",
       "1  2   \n",
       "2  3   \n",
       "3  0   \n",
       "4  1   \n",
       "\n",
       "                                                                                                                                                            review  \\\n",
       "0  I've been using the Cordless Drill for about six months now, and it has exceeded my expectations. The compact design makes it easy to use in tight spaces, w...   \n",
       "1  I've been using this cordless drill for the past six months on various projects around the house, and I am thoroughly impressed. The 18V battery provides in...   \n",
       "2  I purchased this cordless drill about a year ago for use in my small woodworking shop, and it has exceeded my expectations. The 18V lithium-ion battery prov...   \n",
       "3  I've been using this cordless drill for the past 6 months, and it's been a game-changer for my DIY projects. The 20 torque settings allow me to adjust the p...   \n",
       "4  Purchased this cordless drill a year ago and it has not disappointed. The 20 torque settings provide great control and precision, especially on delicate tas...   \n",
       "\n",
       "   _distance  \n",
       "0   0.604516  \n",
       "1   0.609694  \n",
       "2   0.653324  \n",
       "3   0.659256  \n",
       "4   0.704209  "
      ]
     },
     "execution_count": 51,
     "metadata": {},
     "output_type": "execute_result"
    }
   ],
   "source": [
    "reviews_table.search(q.question, query_type='auto').select(['id', 'review']).limit(n_return_vals).to_pandas()"
   ]
  },
  {
   "cell_type": "code",
   "execution_count": 53,
   "metadata": {},
   "outputs": [],
   "source": [
    "initial_results = reviews_table.search(q.question, query_type='auto').select(['id', 'review']).limit(n_to_rerank).to_list()"
   ]
  },
  {
   "cell_type": "code",
   "execution_count": 63,
   "metadata": {},
   "outputs": [
    {
     "data": {
      "text/plain": [
       "(#18) ['4','2','3','0','1','5','16','17','8','9'...]"
      ]
     },
     "execution_count": 63,
     "metadata": {},
     "output_type": "execute_result"
    }
   ],
   "source": [
    "from fastcore.all import L\n",
    "L(initial_results).itemgot('id')"
   ]
  },
  {
   "cell_type": "code",
   "execution_count": 54,
   "metadata": {},
   "outputs": [],
   "source": [
    "texts = [r[\"review\"] for r in initial_results]"
   ]
  },
  {
   "cell_type": "code",
   "execution_count": 55,
   "metadata": {},
   "outputs": [],
   "source": [
    "cache_key = f\"{q.question}_{n_return_vals}\".replace(\"?\", \"\")"
   ]
  },
  {
   "cell_type": "code",
   "execution_count": 56,
   "metadata": {},
   "outputs": [
    {
     "data": {
      "text/plain": [
       "'How good is the battery life on this cordless drill_5'"
      ]
     },
     "execution_count": 56,
     "metadata": {},
     "output_type": "execute_result"
    }
   ],
   "source": [
    "cache_key"
   ]
  },
  {
   "cell_type": "code",
   "execution_count": 57,
   "metadata": {},
   "outputs": [],
   "source": [
    "# Try to get the result from cache\n",
    "cached_result = cache.get(cache_key)\n",
    "if cached_result is not None:\n",
    "    print(cached_result)"
   ]
  },
  {
   "cell_type": "code",
   "execution_count": 58,
   "metadata": {},
   "outputs": [],
   "source": [
    "co = cohere.Client(cohere_api_key)\n",
    "reranked = co.rerank(\n",
    "    query=q.question,\n",
    "    documents=texts,\n",
    "    top_n=n_return_vals\n",
    ")"
   ]
  },
  {
   "cell_type": "code",
   "execution_count": 59,
   "metadata": {},
   "outputs": [
    {
     "data": {
      "text/plain": [
       "RerankResponse(id='f0a0bc0e-33f1-4156-a913-ae6a65ae5d6d', results=[RerankResponseResultsItem(document=None, index=1, relevance_score=0.9934865), RerankResponseResultsItem(document=None, index=0, relevance_score=0.9824904), RerankResponseResultsItem(document=None, index=2, relevance_score=0.9712929), RerankResponseResultsItem(document=None, index=3, relevance_score=0.94550014), RerankResponseResultsItem(document=None, index=4, relevance_score=0.93439513)], meta=ApiMeta(api_version=ApiMetaApiVersion(version='1', is_deprecated=None, is_experimental=None), billed_units=ApiMetaBilledUnits(input_tokens=None, output_tokens=None, search_units=1, classifications=None), tokens=None, warnings=None))"
      ]
     },
     "execution_count": 59,
     "metadata": {},
     "output_type": "execute_result"
    }
   ],
   "source": [
    "reranked"
   ]
  },
  {
   "cell_type": "code",
   "execution_count": 60,
   "metadata": {},
   "outputs": [],
   "source": [
    "# Map reranked results back to original IDs\n",
    "reranked_ids = [initial_results[r.index][\"id\"] for r in reranked.results]"
   ]
  },
  {
   "cell_type": "code",
   "execution_count": 66,
   "metadata": {},
   "outputs": [
    {
     "data": {
      "text/plain": [
       "(#18) ['4','2','3','0','1','5','16','17','8','9'...]"
      ]
     },
     "execution_count": 66,
     "metadata": {},
     "output_type": "execute_result"
    }
   ],
   "source": [
    "from fastcore.all import L\n",
    "L(initial_results).itemgot('id')"
   ]
  },
  {
   "cell_type": "code",
   "execution_count": 61,
   "metadata": {},
   "outputs": [
    {
     "data": {
      "text/plain": [
       "['2', '4', '3', '0', '1']"
      ]
     },
     "execution_count": 61,
     "metadata": {},
     "output_type": "execute_result"
    }
   ],
   "source": [
    "reranked_ids"
   ]
  },
  {
   "cell_type": "code",
   "execution_count": 67,
   "metadata": {},
   "outputs": [],
   "source": [
    "result = [str(q.chunk_id) == str(r) for r in reranked_ids]"
   ]
  },
  {
   "cell_type": "code",
   "execution_count": 68,
   "metadata": {},
   "outputs": [
    {
     "data": {
      "text/plain": [
       "[False, False, False, True, False]"
      ]
     },
     "execution_count": 68,
     "metadata": {},
     "output_type": "execute_result"
    }
   ],
   "source": [
    "result"
   ]
  },
  {
   "cell_type": "code",
   "execution_count": 6,
   "metadata": {},
   "outputs": [
    {
     "name": "stdout",
     "output_type": "stream",
     "text": [
      "   precision    recall  n_retrieved\n",
      "0   0.125198  0.625991            5\n",
      "1   0.081806  0.818062           10\n",
      "2   0.046960  0.939207           20\n"
     ]
    }
   ],
   "source": [
    "try:\n",
    "    import cohere\n",
    "    from diskcache import Cache\n",
    "    cohere_api_key = os.environ[\"COHERE_API_KEY\"]\n",
    "\n",
    "    # Use diskcache to reduce re-running in case of error (or addition of new data)\n",
    "    cache = Cache(\"./cohere_cache\")\n",
    "    \n",
    "    def run_reranked_request(q: EvalQuestion, n_return_vals=5, n_to_rerank=40) -> List[bool]:\n",
    "        # First, get more results than we need\n",
    "        initial_results = reviews_table.search(q.question) \\\n",
    "            .select([\"id\", \"review\"]) \\\n",
    "            .limit(n_to_rerank) \\\n",
    "            .to_list()\n",
    "        \n",
    "        # Prepare texts for reranking\n",
    "        texts = [r[\"review\"] for r in initial_results]\n",
    "        \n",
    "        cache_key = f\"{q.question}_{n_return_vals}\".replace(\"?\", \"\")\n",
    "        # Try to get the result from cache\n",
    "        cached_result = cache.get(cache_key)\n",
    "        if cached_result is not None:\n",
    "            return cached_result\n",
    "        \n",
    "        # Rerank using Cohere\n",
    "        co = cohere.Client(cohere_api_key)\n",
    "        reranked = co.rerank(\n",
    "            query=q.question,\n",
    "            documents=texts,\n",
    "            top_n=n_return_vals\n",
    "        )\n",
    "        \n",
    "        # Map reranked results back to original IDs\n",
    "        reranked_ids = [initial_results[r.index][\"id\"] for r in reranked.results]\n",
    "        result = [str(q.chunk_id) == str(r) for r in reranked_ids]\n",
    "        cache.set(cache_key, result)\n",
    "        return result\n",
    "\n",
    "    def score_reranked_search(n_to_retrieve: List[int], n_to_rerank: int = 40) -> Dict[str, float]:\n",
    "        with ThreadPoolExecutor() as executor:\n",
    "            hits = list(executor.map(\n",
    "                lambda q: run_reranked_request(q, n_to_retrieve, n_to_rerank), \n",
    "                eval_questions\n",
    "            ))\n",
    "        return score(hits)\n",
    "\n",
    "    k_to_retrieve = [5, 10, 20]\n",
    "    reranked_scores = pd.DataFrame([score_reranked_search(n) for n in k_to_retrieve])\n",
    "    reranked_scores[\"n_retrieved\"] = k_to_retrieve\n",
    "    print(reranked_scores)\n",
    "except Exception as e:\n",
    "    print(f\"Could not run reranker.\\n{e}\")\n",
    "    print(\"Ensure COHERE_API_KEY env is set... and cohere library diskcache are installed.\")\n",
    "    print(\"Connection reset by peer is likely rate limiting from Cohere\")"
   ]
  },
  {
   "cell_type": "code",
   "execution_count": null,
   "metadata": {},
   "outputs": [],
   "source": []
  }
 ],
 "metadata": {
  "kernelspec": {
   "display_name": "Python 3",
   "language": "python",
   "name": "python3"
  },
  "language_info": {
   "codemirror_mode": {
    "name": "ipython",
    "version": 3
   },
   "file_extension": ".py",
   "mimetype": "text/x-python",
   "name": "python",
   "nbconvert_exporter": "python",
   "pygments_lexer": "ipython3",
   "version": "3.10.14"
  }
 },
 "nbformat": 4,
 "nbformat_minor": 2
}
