{
 "cells": [
  {
   "cell_type": "markdown",
   "metadata": {},
   "source": [
    "# Goal\n",
    "\n",
    "This notebook shows how to make synthetic data to bootstrap evaluation of your retrieval system. \n",
    "\n",
    "This synthetic data contains many triplets of `(RAG system input, system output, desired chunk to retrieve)`. For this example, we will work on a hardware retailer's system to answer user questions based on existing product previous. So the synthetic data will look like\n",
    "\n",
    "```\n",
    "Q: How frequently do I need to replace the blades on this saw?\n",
    "A: A customer reported getting 7-10 hours of active use between blade replacements.\n",
    "Chunk ID: 3\n",
    "```\n",
    "\n",
    "Once you have many of these triplets, you can experiments with different retrieval strategies (e.g. different embedding models, embedding vs keyword search, etc) to determine which strategies most consistently retrieve the desired chunks.\n",
    "\n",
    "# A Starting Point\n",
    "\n",
    "A simple approach would follow pseudo code:\n",
    "\n",
    "```\n",
    "synth_data = []\n",
    "for chunk in corpus:\n",
    "    response = call_llm(f\"Give me a JSON array of 10 question/answer pairs. The questions should be things someone might ask about a product before purchase. The answer should be something contained in this text: {chunk}\")\n",
    "    q_a = json.loads(response.content)\n",
    "    q_a_c = [{'question': q, 'answer': a, 'chunk': chunk} for (q, a) in q_a_pairs]\n",
    "    synth_data.extend(q_a_c)\n",
    "```\n",
    "\n",
    "A practical implementation should address three issues that arise in the naive pseudo code.\n",
    "\n",
    "| Issue | Solution |\n",
    "|---------|----------|\n",
    "| Inconsistent formatting of LLM response (e.g. different keys) | Instructor library |\n",
    "| Bad questions | Guidance/examples in prompt |\n",
    "| Time waiting for LLM responses when iterating over many chunks | Async LLM calls|\n",
    "\n",
    "# Reusable Code to Bootstrap Evals\n",
    "\n",
    "The code in this notebook addresses these issues. The code is also available as [this script](https://gist.github.com/jxnl/5627c9d463ffe0b085896f7890fab1bf).\n",
    "\n",
    "## Data\n",
    "\n",
    "This course uses synthetic data based on the use-case of answering questions on a hardware retailer's website based on product reviews. We have created this data in `make_product_reviews.ipynb`. Here is a small sample of the data."
   ]
  },
  {
   "cell_type": "code",
   "execution_count": 1,
   "metadata": {},
   "outputs": [
    {
     "name": "stderr",
     "output_type": "stream",
     "text": [
      "/home/msivanes/miniconda3/envs/sysrag/lib/python3.10/site-packages/tqdm/auto.py:21: TqdmWarning: IProgress not found. Please update jupyter and ipywidgets. See https://ipywidgets.readthedocs.io/en/stable/user_install.html\n",
      "  from .autonotebook import tqdm as notebook_tqdm\n"
     ]
    }
   ],
   "source": [
    "import lancedb\n",
    "import pandas as pd\n",
    "\n",
    "pd.set_option(\"display.max_colwidth\", 160)"
   ]
  },
  {
   "cell_type": "code",
   "execution_count": 2,
   "metadata": {},
   "outputs": [
    {
     "data": {
      "text/plain": [
       "LanceDBConnection(/home/msivanes/Documents/1Projects/systematically-improving-rag/week1_bootstrap_evals/lancedb)"
      ]
     },
     "execution_count": 2,
     "metadata": {},
     "output_type": "execute_result"
    }
   ],
   "source": [
    "db = lancedb.connect(\"./lancedb\")\n",
    "db"
   ]
  },
  {
   "cell_type": "code",
   "execution_count": 3,
   "metadata": {},
   "outputs": [
    {
     "data": {
      "text/plain": [
       "LanceTable(connection=LanceDBConnection(/home/msivanes/Documents/1Projects/systematically-improving-rag/week1_bootstrap_evals/lancedb), name=\"reviews\")"
      ]
     },
     "execution_count": 3,
     "metadata": {},
     "output_type": "execute_result"
    }
   ],
   "source": [
    "reviews_table = db.open_table(\"reviews\")\n",
    "reviews_table"
   ]
  },
  {
   "cell_type": "code",
   "execution_count": 4,
   "metadata": {},
   "outputs": [],
   "source": [
    "sample_reviews = reviews_table.to_pandas()"
   ]
  },
  {
   "cell_type": "code",
   "execution_count": 6,
   "metadata": {},
   "outputs": [
    {
     "data": {
      "text/html": [
       "<div>\n",
       "<style scoped>\n",
       "    .dataframe tbody tr th:only-of-type {\n",
       "        vertical-align: middle;\n",
       "    }\n",
       "\n",
       "    .dataframe tbody tr th {\n",
       "        vertical-align: top;\n",
       "    }\n",
       "\n",
       "    .dataframe thead th {\n",
       "        text-align: right;\n",
       "    }\n",
       "</style>\n",
       "<table border=\"1\" class=\"dataframe\">\n",
       "  <thead>\n",
       "    <tr style=\"text-align: right;\">\n",
       "      <th></th>\n",
       "      <th>id</th>\n",
       "      <th>product_title</th>\n",
       "      <th>product_description</th>\n",
       "      <th>review</th>\n",
       "      <th>vector</th>\n",
       "    </tr>\n",
       "  </thead>\n",
       "  <tbody>\n",
       "    <tr>\n",
       "      <th>0</th>\n",
       "      <td>0</td>\n",
       "      <td>Cordless Drill</td>\n",
       "      <td>This powerful cordless drill features an ergonomic design perfect for all-day use. With 20 torque settings and a lithium-ion battery, it offers unmatched ve...</td>\n",
       "      <td>I've been using this cordless drill for the past 6 months, and it's been a game-changer for my DIY projects. The 20 torque settings allow me to adjust the p...</td>\n",
       "      <td>[-0.0038200605, -0.009364537, -0.026297344, -0.020058312, 0.0376258, 0.0038050916, -0.000636552, 0.06768333, 0.023818497, -0.0054426882, 0.011939186, 0.0186...</td>\n",
       "    </tr>\n",
       "    <tr>\n",
       "      <th>1</th>\n",
       "      <td>1</td>\n",
       "      <td>Cordless Drill</td>\n",
       "      <td>This powerful cordless drill features an ergonomic design perfect for all-day use. With 20 torque settings and a lithium-ion battery, it offers unmatched ve...</td>\n",
       "      <td>Purchased this cordless drill a year ago and it has not disappointed. The 20 torque settings provide great control and precision, especially on delicate tas...</td>\n",
       "      <td>[-0.023377769, -0.01479075, -0.014503318, -0.029437784, 0.029629406, -0.0010449336, -0.022671165, 0.08718758, -0.0075630434, -0.0136050945, 0.041390147, 0.0...</td>\n",
       "    </tr>\n",
       "    <tr>\n",
       "      <th>2</th>\n",
       "      <td>2</td>\n",
       "      <td>Cordless Drill</td>\n",
       "      <td>Our lightweight cordless drill comes equipped with a flexible LED work light to illuminate your workspace. The 18V battery provides ample power for tough ma...</td>\n",
       "      <td>I've been using this cordless drill for the past six months on various projects around the house, and I am thoroughly impressed. The 18V battery provides in...</td>\n",
       "      <td>[-0.015202215, 0.0038308129, 0.0022391798, -0.008841734, 0.008781216, 0.008865941, -0.007449812, 0.061050933, 0.045049876, -0.01014288, 0.037472975, -0.0050...</td>\n",
       "    </tr>\n",
       "  </tbody>\n",
       "</table>\n",
       "</div>"
      ],
      "text/plain": [
       "  id   product_title  \\\n",
       "0  0  Cordless Drill   \n",
       "1  1  Cordless Drill   \n",
       "2  2  Cordless Drill   \n",
       "\n",
       "                                                                                                                                               product_description  \\\n",
       "0  This powerful cordless drill features an ergonomic design perfect for all-day use. With 20 torque settings and a lithium-ion battery, it offers unmatched ve...   \n",
       "1  This powerful cordless drill features an ergonomic design perfect for all-day use. With 20 torque settings and a lithium-ion battery, it offers unmatched ve...   \n",
       "2  Our lightweight cordless drill comes equipped with a flexible LED work light to illuminate your workspace. The 18V battery provides ample power for tough ma...   \n",
       "\n",
       "                                                                                                                                                            review  \\\n",
       "0  I've been using this cordless drill for the past 6 months, and it's been a game-changer for my DIY projects. The 20 torque settings allow me to adjust the p...   \n",
       "1  Purchased this cordless drill a year ago and it has not disappointed. The 20 torque settings provide great control and precision, especially on delicate tas...   \n",
       "2  I've been using this cordless drill for the past six months on various projects around the house, and I am thoroughly impressed. The 18V battery provides in...   \n",
       "\n",
       "                                                                                                                                                            vector  \n",
       "0  [-0.0038200605, -0.009364537, -0.026297344, -0.020058312, 0.0376258, 0.0038050916, -0.000636552, 0.06768333, 0.023818497, -0.0054426882, 0.011939186, 0.0186...  \n",
       "1  [-0.023377769, -0.01479075, -0.014503318, -0.029437784, 0.029629406, -0.0010449336, -0.022671165, 0.08718758, -0.0075630434, -0.0136050945, 0.041390147, 0.0...  \n",
       "2  [-0.015202215, 0.0038308129, 0.0022391798, -0.008841734, 0.008781216, 0.008865941, -0.007449812, 0.061050933, 0.045049876, -0.01014288, 0.037472975, -0.0050...  "
      ]
     },
     "execution_count": 6,
     "metadata": {},
     "output_type": "execute_result"
    }
   ],
   "source": [
    "sample_reviews.head(3)"
   ]
  },
  {
   "cell_type": "code",
   "execution_count": 1,
   "metadata": {},
   "outputs": [
    {
     "data": {
      "text/plain": [
       "0       I've owned several cordless drills over the years, but this one is exceptional. It is lightweight, making it easy to use for extended periods without fatigu...\n",
       "1       As a professional contractor, I rely on my tools every day. This cordless drill has exceeded my expectations with its powerful motor and ergonomic design. T...\n",
       "2       I'm a DIY enthusiast and bought this cordless drill for home projects. It's perfect for everything from hanging shelves to assembling furniture. The drill i...\n",
       "3       After using this cordless drill for several months, I can confidently say it's one of the best I've owned. The lightweight design makes it comfortable to us...\n",
       "4       This cordless drill has become my go-to tool for all my DIY projects. The lightweight design reduces strain on my wrist, and the 2-speed transmission is inc...\n",
       "                                                                                     ...                                                                               \n",
       "1130    What I love most about this pressure cookware is how quickly it builds and releases pressure. The pot itself is lightweight yet durable, making it easy to h...\n",
       "1131    This pressure cooker has exceeded my expectations with its performance and design. It's perfect for preparing large batches of soups and stews. The pressure...\n",
       "1132    I bought this pressure cooker primarily for its versatility, and it has lived up to my hopes. It works effortlessly on my ceramic stovetop, and the fast coo...\n",
       "1133    The build quality of this pressure cookware is top-notch. The handles are ergonomically designed, making it easy to lift and move around. I love that it com...\n",
       "1134    After using this pressure cooker for a few months, I can say it's one of the best kitchen investments I've made. The even heat distribution ensures that my ...\n",
       "Name: review, Length: 1135, dtype: object"
      ]
     },
     "execution_count": 1,
     "metadata": {},
     "output_type": "execute_result"
    }
   ],
   "source": [
    "import lancedb\n",
    "import pandas as pd\n",
    "\n",
    "pd.set_option(\"display.max_colwidth\", 160)\n",
    "\n",
    "db = lancedb.connect(\"./lancedb\")\n",
    "reviews_table = db.open_table(\"reviews\")\n",
    "sample_reviews = reviews_table.to_pandas()\n",
    "sample_reviews.review"
   ]
  },
  {
   "cell_type": "markdown",
   "metadata": {},
   "source": [
    "## Structure The Data\n",
    "\n",
    "We use Pydantic & Instructor for a reliable interface between our LLMs and the structured data formats we need to run code on LLM output"
   ]
  },
  {
   "cell_type": "code",
   "execution_count": 7,
   "metadata": {},
   "outputs": [],
   "source": [
    "from pydantic import BaseModel"
   ]
  },
  {
   "cell_type": "code",
   "execution_count": 8,
   "metadata": {},
   "outputs": [],
   "source": [
    "class Review(BaseModel):\n",
    "    id: str\n",
    "    product_title: str\n",
    "    product_description: str\n",
    "    review: str"
   ]
  },
  {
   "cell_type": "code",
   "execution_count": 9,
   "metadata": {},
   "outputs": [],
   "source": [
    "sample_chunks = [\n",
    "    Review(\n",
    "        id=str(row.id),\n",
    "        product_title=row.product_title,\n",
    "        product_description=row.product_description,\n",
    "        review=row.review,\n",
    "    )\n",
    "    for _, row in sample_reviews.iterrows()\n",
    "]"
   ]
  },
  {
   "cell_type": "code",
   "execution_count": 10,
   "metadata": {},
   "outputs": [],
   "source": [
    "n_questions = 2  # number of questions to get in each LLM call"
   ]
  },
  {
   "cell_type": "code",
   "execution_count": 11,
   "metadata": {},
   "outputs": [],
   "source": [
    "example_questions = [\n",
    "    \"What does the reviewer like about the product?\",\n",
    "    \"What does the reviewer think could be improved?\",\n",
    "]"
   ]
  },
  {
   "cell_type": "code",
   "execution_count": 2,
   "metadata": {},
   "outputs": [],
   "source": [
    "from pydantic import BaseModel\n",
    "\n",
    "\n",
    "class Review(BaseModel):\n",
    "    id: str\n",
    "    product_title: str\n",
    "    product_description: str\n",
    "    review: str\n",
    "\n",
    "\n",
    "sample_chunks = [\n",
    "    Review(\n",
    "        id=str(row.id),\n",
    "        product_title=row.product_title,\n",
    "        product_description=row.product_description,\n",
    "        review=row.review,\n",
    "    )\n",
    "    for _, row in sample_reviews.iterrows()\n",
    "]\n",
    "\n",
    "n_questions = 2  # number of questions to get in each LLM call\n",
    "example_questions = [\n",
    "    \"What does the reviewer like about the product?\",\n",
    "    \"What does the reviewer think could be improved?\",\n",
    "]"
   ]
  },
  {
   "cell_type": "code",
   "execution_count": 12,
   "metadata": {},
   "outputs": [],
   "source": [
    "from typing import List\n",
    "import instructor\n",
    "from openai import AsyncOpenAI"
   ]
  },
  {
   "cell_type": "code",
   "execution_count": 13,
   "metadata": {},
   "outputs": [],
   "source": [
    "# Patch the AsyncOpenAI client\n",
    "client = instructor.from_openai(AsyncOpenAI())"
   ]
  },
  {
   "cell_type": "code",
   "execution_count": 14,
   "metadata": {},
   "outputs": [],
   "source": [
    "class QuestionAnswer(BaseModel):\n",
    "    question: str\n",
    "    answer: str"
   ]
  },
  {
   "cell_type": "code",
   "execution_count": 15,
   "metadata": {},
   "outputs": [],
   "source": [
    "class ChunkEval(QuestionAnswer):\n",
    "    chunk_id: str"
   ]
  },
  {
   "cell_type": "code",
   "execution_count": 17,
   "metadata": {},
   "outputs": [
    {
     "data": {
      "text/plain": [
       "[Review(id='0', product_title='Cordless Drill', product_description='This powerful cordless drill features an ergonomic design perfect for all-day use. With 20 torque settings and a lithium-ion battery, it offers unmatched versatility and efficiency in any drilling task.', review=\"I've been using this cordless drill for the past 6 months, and it's been a game-changer for my DIY projects. The 20 torque settings allow me to adjust the power precisely for each material I'm working with, whether it's wood, metal, or plastic. The lithium-ion battery charges quickly, often taking less than an hour to reach full capacity, and it easily lasts through a full day of work without needing a recharge. The ergonomic design is truly comfortable, reducing fatigue during extended use. One feature I particularly appreciate is the built-in LED light, which illuminates the work area perfectly, making it convenient to work in low-light conditions. Compared to my old drill, this one is significantly quieter and much lighter, adding to the overall ease of use. Highly recommend it! \"),\n",
       " Review(id='1', product_title='Cordless Drill', product_description='This powerful cordless drill features an ergonomic design perfect for all-day use. With 20 torque settings and a lithium-ion battery, it offers unmatched versatility and efficiency in any drilling task.', review=\"Purchased this cordless drill a year ago and it has not disappointed. The 20 torque settings provide great control and precision, especially on delicate tasks like installing shelves or working on electronics. The lithium-ion battery holds its charge exceptionally well; even after heavy use, I only need to charge it once every couple of weeks. Its compact and lightweight design is a huge plus for me, as it fits effortlessly into tight spaces and doesn't strain my wrist. The chuck is very sturdy, gripping drill bits securely without any slipping. The motor is powerful, yet doesn't overheat even with prolonged use. Additionally, the drill comes with a comprehensive set of drill bits and screwdriver heads, adding to its versatility. Definitely a tool that lives up to its promises.\"),\n",
       " Review(id='2', product_title='Cordless Drill', product_description='Our lightweight cordless drill comes equipped with a flexible LED work light to illuminate your workspace. The 18V battery provides ample power for tough materials, making it a great choice for DIY enthusiasts and professionals alike.', review=\"I've been using this cordless drill for the past six months on various projects around the house, and I am thoroughly impressed. The 18V battery provides incredible power, easily handling tough materials like dense hardwood and masonry. One of the standout features is the flexible LED work light. It has been a game-changer for working in dimly lit spaces, like under cabinets or in basements. Speaking of battery life, it lasts quite long on a single charge - I can get through an entire day's work without needing to recharge. The design is ergonomic and lightweight, meaning I don't deal with fatigue even after extended use. Moreover, the quick-charge feature ensures that even when the battery is low, I'm back to work within an hour. This drill has struck the perfect balance between power, versatility, and convenience. I highly recommend it to any DIY enthusiast or professional.\"),\n",
       " Review(id='3', product_title='Cordless Drill', product_description='Our lightweight cordless drill comes equipped with a flexible LED work light to illuminate your workspace. The 18V battery provides ample power for tough materials, making it a great choice for DIY enthusiasts and professionals alike.', review='I purchased this cordless drill about a year ago for use in my small woodworking shop, and it has exceeded my expectations. The 18V lithium-ion battery provides a powerful and steady performance, easily drilling through thick oak and metal. The built-in flexible LED work light is surprisingly useful; it illuminates my work area perfectly, ensuring precision even in tight and shadowed spots. The drill is quite lightweight, which reduces strain on my wrists during long projects. The battery life is impressive, allowing me to work for hours without stopping. Additionally, the variable speed control is excellent for different tasks, from delicate work to more demanding drilling. The chuck is easy to adjust, and I appreciate the keyless design for swift bit changes. Overall, this cordless drill is a workhorse - reliable, powerful, and incredibly user-friendly.'),\n",
       " Review(id='4', product_title='Cordless Drill', product_description='Engineered for precision, this cordless drill has a compact design that allows for maximum maneuverability in tight spaces. It includes a built-in battery indicator to show remaining power, ensuring you never run out of charge unexpectedly.', review=\"I've been using the Cordless Drill for about six months now, and it has exceeded my expectations. The compact design makes it easy to use in tight spaces, which is perfect for my woodworking projects in my small garage. The built-in battery indicator is a game changer; I never have to worry about the drill dying on me in the middle of a job. Plus, the battery life is impressive - I can get about 3 hours of continuous use before needing to recharge. The drill is also incredibly lightweight, which reduces fatigue during extended use. I highly recommend it for both DIY enthusiasts and professionals alike.\"),\n",
       " Review(id='5', product_title='Cordless Drill', product_description='Engineered for precision, this cordless drill has a compact design that allows for maximum maneuverability in tight spaces. It includes a built-in battery indicator to show remaining power, ensuring you never run out of charge unexpectedly.', review=\"I purchased this Cordless Drill a year ago, and it has quickly become one of my most trusted tools. The precision is top-notch, allowing me to drill perfectly straight holes every time. The ergonomic design means I can use it for hours without experiencing discomfort. One of the best features is the quick-charge capability - the battery fully charges in just under an hour. I've dropped it a few times, but it remains as durable as ever, without any noticeable damage. Additionally, the speed settings are versatile, making it suitable for a variety of materials from wood to metal. It's definitely worth every penny.\"),\n",
       " Review(id='6', product_title='Adjustable Wrench', product_description='This adjustable wrench is made of high-strength steel, ensuring durability and long-lasting use. It features a smooth adjustment mechanism for precision grip on various sizes of nuts and bolts.', review=\"I've been using this adjustable wrench for over a year now, and it has become my go-to tool for any plumbing or automotive repairs. The high-strength steel construction really stands out; it's endured countless falls and hard impacts without any signs of wear. The smooth adjustment mechanism allows for precise gripping, which is crucial when working with different sizes of nuts and bolts. Unlike other wrenches I've used, the adjustment knob doesn't loosen over time, providing consistent performance. In terms of size, the 12-inch length is perfect for leveraging tough bolts, yet compact enough to fit into tighter spaces. I also appreciate the etched measurement markings on the jaw, making it easy to quickly gauge the size. Overall, this wrench strikes a perfect balance between durability, precision, and ease of use.\"),\n",
       " Review(id='7', product_title='Adjustable Wrench', product_description='This adjustable wrench is made of high-strength steel, ensuring durability and long-lasting use. It features a smooth adjustment mechanism for precision grip on various sizes of nuts and bolts.', review=\"This adjustable wrench is an essential addition to my toolbox. Made from high-strength steel, it's built to last, and I've used it in a variety of tough situations, from heavy-duty construction projects to simple home repairs. The adjusting mechanism is incredibly smooth and responsive, allowing me to switch between different bolt sizes seamlessly without any hassle. The ergonomic grip is a nice touch, reducing hand strain during extended use. One feature I particularly like is the anti-slip jaw design, which ensures a firm hold, reducing the chance of rounding off nuts or bolts. Additionally, the wrench is rust-resistant, and after six months of frequent use in various weather conditions, it still looks and performs like new. This is a tool that combines both strength and precision, making it ideal for both professional and DIY projects.\"),\n",
       " Review(id='8', product_title='Adjustable Wrench', product_description='The ergonomic handle on this adjustable wrench provides a comfortable grip, reducing hand fatigue during extended use. Its versatile design allows for quick adjustments and functionality on a variety of fasteners.', review=\"I've been using the adjustable wrench for a few months now, and it has quickly become a staple in my toolbox. The ergonomic handle is top-notch; it truly reduces hand fatigue, even during prolonged use. I appreciate the quick adjustment feature, which allows me to switch between different fasteners effortlessly. The wrench has a wide jaw capacity, accommodating various bolt sizes, which is perfect for all my home improvement projects. The durable steel construction feels robust and has held up well against wear and tear. My only minor gripe is that the adjustment mechanism occasionally needs a bit of extra tightening to hold firm, but overall, it's a reliable and versatile tool worth every penny.\"),\n",
       " Review(id='9', product_title='Adjustable Wrench', product_description='The ergonomic handle on this adjustable wrench provides a comfortable grip, reducing hand fatigue during extended use. Its versatile design allows for quick adjustments and functionality on a variety of fasteners.', review=\"I've owned this adjustable wrench for over a year, and it has served me well in numerous DIY projects. The handle's ergonomic design is a game changer, offering excellent grip and comfort, which is crucial when working for extended periods. The precision in the adjustment wheel is commendable; it allows for smooth and accurate modifications, making it easy to tackle different fastener sizes without needing multiple tools. One standout feature is the scale markings on the wrench, which help in making quick size adjustments. The tool's overall build quality is impressive, with no signs of rust or degradation despite frequent use. While it is slightly heavier than some other wrenches I've used, the added weight contributes to its durability and effectiveness. Highly recommended for both casual and professional use.\"),\n",
       " Review(id='10', product_title='Adjustable Wrench', product_description='Crafted from premium materials, this adjustable wrench includes a corrosion-resistant finish. Its jaw opens wide to accommodate larger fasteners, making it a must-have tool in any toolbox.', review=\"I'm highly impressed with this Adjustable Wrench. The build quality is fantastic—it's crafted from premium grade steel that feels solid and durable. The corrosion-resistant finish has kept it looking new despite frequent use in wet conditions. The wide jaw opening easily accommodates large fasteners, and the adjustment mechanism is smooth, allowing for quick size changes without slipping. I've been using it for over a year now, and it has become an essential part of my toolkit. One minor drawback is that it's a bit heavier than some other wrenches, but the added heft gives it a robust feel that I appreciate.\"),\n",
       " Review(id='11', product_title='Adjustable Wrench', product_description='Crafted from premium materials, this adjustable wrench includes a corrosion-resistant finish. Its jaw opens wide to accommodate larger fasteners, making it a must-have tool in any toolbox.', review=\"This Adjustable Wrench has been a game changer for my DIY projects. The precision with which it adjusts is outstanding, accommodating everything from small nuts to larger bolts effortlessly. The non-slip grip ensures safety even when my hands are greasy, and I love the corrosion-resistant finish that guarantees longevity. Whether I'm working on plumbing or assembling furniture, this wrench handles it all. I've had it for six months and it shows no signs of wear. My only complaint is that it's slightly bulky, making it a tight fit in my smaller toolbox, but considering its versatility and reliability, this is a minor issue.\"),\n",
       " Review(id='12', product_title='Portable Workbench', product_description='This portable workbench is designed for maximum stability while being lightweight and easy to transport. It features an adjustable height option for versatile project needs, whether at home or on the go.', review='This portable workbench has been a game changer for my woodworking projects. The first thing I noticed was its stability; despite being lightweight (only 15 lbs), it doesn\\'t wobble at all, even when I\\'m working on heavier materials like oak or walnut. The adjustable height is a godsend because I often switch between sitting and standing positions during long projects. It can be adjusted from a low sitting height of 24 inches up to a standing height of 36 inches, accommodating my 6\\'1\" frame perfectly. The workbench also has integrated clamps that hold materials securely, making precise cuts easy. I’ve been using it for about 6 months now, and it’s just as sturdy as the day I bought it. The portability aspect is top-notch; it folds down into a compact size (3ft x 2ft), making it easy to throw in my truck for on-site jobs.'),\n",
       " Review(id='13', product_title='Portable Workbench', product_description='This portable workbench is designed for maximum stability while being lightweight and easy to transport. It features an adjustable height option for versatile project needs, whether at home or on the go.', review=\"I've used a lot of different workbenches over the years, but this portable workbench blows them all out of the water. The aluminum frame is both strong and lightweight, and it doesn’t rust, which is perfect for outdoor projects or humid environments. The work surface is a generous size at 48 inches by 24 inches, providing ample space for large pieces of plywood and other materials. One feature I particularly love is the built-in power strip with three outlets; it saves me the hassle of running extension cords all over my workspace. The rubberized feet are a thoughtful addition, providing extra stability and preventing scratches on my garage floor. After 1 year of use, there are no signs of wear and tear, which is impressive. Definitely worth every penny!\"),\n",
       " Review(id='14', product_title='Portable Workbench', product_description='With integrated clamps and a durable surface, this portable workbench is perfect for woodworking or DIY projects. It folds flat for convenient storage and easily sets up in seconds.', review=\"I've been using this portable workbench for about six months, and it's been a tremendous upgrade to my workshop. The integrated clamps are incredibly strong and versatile, holding down everything from thin plywood to thick hardwood slabs. The durable work surface has proven to be scratch-resistant and surprisingly easy to clean, even after messy projects involving glue and paint. It folds completely flat, which is a huge space saver in my small garage, and the setup really does take just seconds—perfect for quick jobs. I also appreciate the non-slip feet which keep it stable on my sometimes uneven garage floor. The only downside is that it's a bit heavy, but that's a small price to pay for such excellent sturdiness and reliability.\"),\n",
       " Review(id='15', product_title='Portable Workbench', product_description='With integrated clamps and a durable surface, this portable workbench is perfect for woodworking or DIY projects. It folds flat for convenient storage and easily sets up in seconds.', review=\"This portable workbench is a game changer for my DIY projects. The first thing I noticed was how sturdy and well-made it feels. The surface is robust and can handle a lot of weight without any problems. The built-in clamps are a lifesaver; they hold materials securely and can be easily adjusted to fit various sizes. One of my favorite features is how it folds up flat, making it easy to store in the limited space I have in my shed. Setting it up is incredibly fast—probably less than 30 seconds. I've used it for everything from cutting wood to painting, and it has handled it all beautifully. My only wish is that it had wheels to make it easier to move around, but overall, it's an excellent buy for anyone serious about woodworking or DIY.\"),\n",
       " Review(id='16', product_title='Portable Workbench', product_description='Our innovative portable workbench includes a built-in power strip, allowing you to power your tools right where you need them. Its robust structure supports heavy workloads without sacrificing portability.', review=\"I've been using the Portable Workbench for about six months now, and it has completely transformed my workspace. The built-in power strip is such a lifesaver, allowing me to plug in multiple tools without having to run extension cords across my garage. The structure is incredibly robust; I regularly place heavy wood logs and metal sheets on it and it doesn't wobble at all. At first, I was skeptical about its portability due to its sturdy build, but I was pleasantly surprised. Folding it up takes just a couple of minutes, and it easily fits in the trunk of my car. The workbench also features adjustable legs, which is great when working on uneven surfaces. Overall, this is a fantastic, versatile addition to any DIY enthusiast's toolkit.\"),\n",
       " Review(id='17', product_title='Portable Workbench', product_description='Our innovative portable workbench includes a built-in power strip, allowing you to power your tools right where you need them. Its robust structure supports heavy workloads without sacrificing portability.', review=\"The Portable Workbench has quickly become my go-to station for all my tinkering and repair needs. One feature that really stands out is the integrated power strip with multiple outlets and even USB ports, which means I can charge my phone while working. The work surface is made of high-quality, scratch-resistant material, perfect for heavy-duty use. I've used it to mount my vise, and it holds up exceptionally well under pressure. Setting it up the first time took a bit longer than I expected, but now I can unfold it and start working in under two minutes. The portability is a major plus; it’s lightweight enough to carry around with one hand. Another thoughtful detail is the built-in storage compartments for screws, nails, and other small items. This workbench offers a perfect blend of durability and convenience. Highly recommended!\")]"
      ]
     },
     "execution_count": 17,
     "metadata": {},
     "output_type": "execute_result"
    }
   ],
   "source": [
    "sample_chunks"
   ]
  },
  {
   "cell_type": "markdown",
   "metadata": {},
   "source": [
    "Now see how we build questions on a single chunk"
   ]
  },
  {
   "cell_type": "code",
   "execution_count": 21,
   "metadata": {},
   "outputs": [
    {
     "data": {
      "text/plain": [
       "'\\n'"
      ]
     },
     "execution_count": 21,
     "metadata": {},
     "output_type": "execute_result"
    }
   ],
   "source": [
    "chr(10) # newline character"
   ]
  },
  {
   "cell_type": "code",
   "execution_count": 25,
   "metadata": {},
   "outputs": [
    {
     "data": {
      "text/plain": [
       "(2,\n",
       " ['What does the reviewer like about the product?',\n",
       "  'What does the reviewer think could be improved?'])"
      ]
     },
     "execution_count": 25,
     "metadata": {},
     "output_type": "execute_result"
    }
   ],
   "source": [
    "review = sample_chunks[0]\n",
    "n_questions, example_questions"
   ]
  },
  {
   "cell_type": "code",
   "execution_count": 26,
   "metadata": {},
   "outputs": [],
   "source": [
    "prompt = f\"\"\"\n",
    "Generate `{n_questions}` question-answer pairs about a {review.product_title}. The answers should primarily be derived from information in this product review:\n",
    "\n",
    "<content>\n",
    "{review.review}\n",
    "</content>\n",
    "\n",
    "While they should contain information from the product review, you may also find it helpful context to see a product description:\n",
    "<content>\n",
    "{review.product_description}\n",
    "</content>\n",
    "\n",
    "Example questions:\n",
    "{chr(10).join(f'- {q}' for q in example_questions)}\n",
    "\n",
    "Provide a concise and specific answer for each question.\n",
    "Do not use the exact example questions. Use them only as inspiration for the types of more specific questions to generate.\n",
    "Do not include answers that are not in the content.\n",
    "Questions should ask about product characteristics (e.g. durability) and answers should refer to product characteristics without referring to the reviewer specifically.\n",
    "Stylistically, the questions should resemble what people would ask a RAG-based answer bot on a retailer's website. So they can be a little informal, messy or scattered.\n",
    "\"\"\""
   ]
  },
  {
   "cell_type": "code",
   "execution_count": 27,
   "metadata": {},
   "outputs": [],
   "source": [
    "pairs = client.chat.completions.create_iterable(\n",
    "            model=\"gpt-4o-mini\",\n",
    "            response_model=QuestionAnswer,\n",
    "            messages=[{\"role\": \"user\", \"content\": prompt}],\n",
    "        )"
   ]
  },
  {
   "cell_type": "code",
   "execution_count": 28,
   "metadata": {},
   "outputs": [
    {
     "data": {
      "text/plain": [
       "<async_generator object AsyncInstructor.create_iterable at 0x7f6139f9fd40>"
      ]
     },
     "execution_count": 28,
     "metadata": {},
     "output_type": "execute_result"
    }
   ],
   "source": [
    "pairs"
   ]
  },
  {
   "cell_type": "code",
   "execution_count": 30,
   "metadata": {},
   "outputs": [
    {
     "data": {
      "text/plain": [
       "[ChunkEval(question='How many torque settings does this cordless drill have?', answer='The cordless drill has 20 torque settings, allowing precise adjustment of power for various materials.', chunk_id='0'),\n",
       " ChunkEval(question=\"What's special about the battery of this drill?\", answer='The lithium-ion battery charges quickly, often taking less than an hour to reach full capacity, and lasts through a full day of work.', chunk_id='0')]"
      ]
     },
     "execution_count": 30,
     "metadata": {},
     "output_type": "execute_result"
    }
   ],
   "source": [
    "[\n",
    "            ChunkEval(question=pair.question, answer=pair.answer, chunk_id=review.id)\n",
    "            async for pair in pairs\n",
    "        ]"
   ]
  },
  {
   "cell_type": "code",
   "execution_count": 3,
   "metadata": {},
   "outputs": [
    {
     "data": {
      "text/plain": [
       "[ChunkEval(question='How does the weight of this cordless drill affect its usability?', answer='The cordless drill is lightweight, making it easy to use for extended periods without fatigue.', chunk_id='0'),\n",
       " ChunkEval(question='What features does this drill have for different tasks?', answer='It has a 2-speed transmission that allows switching between high torque for drilling and high speed for driving screws.', chunk_id='0')]"
      ]
     },
     "execution_count": 3,
     "metadata": {},
     "output_type": "execute_result"
    }
   ],
   "source": [
    "from typing import List\n",
    "import instructor\n",
    "from openai import AsyncOpenAI\n",
    "\n",
    "# Patch the AsyncOpenAI client\n",
    "client = instructor.from_openai(AsyncOpenAI())\n",
    "\n",
    "\n",
    "class QuestionAnswer(BaseModel):\n",
    "    question: str\n",
    "    answer: str\n",
    "\n",
    "\n",
    "class ChunkEval(QuestionAnswer):\n",
    "    chunk_id: str\n",
    "\n",
    "\n",
    "async def generate_evals(\n",
    "    review: Review, n_questions: int, example_questions: List[str]\n",
    ") -> List[ChunkEval]:\n",
    "\n",
    "    prompt = f\"\"\"\n",
    "        Generate `{n_questions}` question-answer pairs about a {review.product_title}. The answers should primarily be derived from information in this product review:\n",
    "\n",
    "        <content>\n",
    "        {review.review}\n",
    "        </content>\n",
    "\n",
    "        While they should contain information from the product review, you may also find it helpful context to see a product description:\n",
    "        <content>\n",
    "        {review.product_description}\n",
    "        </content>\n",
    "\n",
    "        Example questions:\n",
    "        {chr(10).join(f'- {q}' for q in example_questions)}\n",
    "\n",
    "        Provide a concise and specific answer for each question.\n",
    "        Do not use the exact example questions. Use them only as inspiration for the types of more specific questions to generate.\n",
    "        Do not include answers that are not in the content.\n",
    "        Questions should ask about product characteristics (e.g. durability) and answers should refer to product characteristics without referring to the reviewer specifically.\n",
    "        Stylistically, the questions should resemble what people would ask a RAG-based answer bot on a retailer's website. So they can be a little informal, messy or scattered.\n",
    "        \"\"\"\n",
    "\n",
    "    try:\n",
    "        pairs = client.chat.completions.create_iterable(\n",
    "            model=\"gpt-4o-mini\",\n",
    "            response_model=QuestionAnswer,\n",
    "            messages=[{\"role\": \"user\", \"content\": prompt}],\n",
    "        )\n",
    "        return [\n",
    "            ChunkEval(question=pair.question, answer=pair.answer, chunk_id=review.id)\n",
    "            async for pair in pairs\n",
    "        ]\n",
    "    except Exception as e:\n",
    "        print(f\"Error generating evals: {str(e)}\")\n",
    "        return []\n",
    "\n",
    "\n",
    "first_chunk_res = await generate_evals(sample_chunks[0], n_questions, example_questions)\n",
    "first_chunk_res"
   ]
  },
  {
   "cell_type": "markdown",
   "metadata": {},
   "source": [
    "To run `generate_evals` for many chunks in parallel, wrap it with a function that also takes a semaphore. "
   ]
  },
  {
   "cell_type": "code",
   "execution_count": 31,
   "metadata": {},
   "outputs": [],
   "source": [
    "import asyncio"
   ]
  },
  {
   "cell_type": "code",
   "execution_count": 32,
   "metadata": {},
   "outputs": [],
   "source": [
    "class ChunkProcessingError(Exception):\n",
    "    pass"
   ]
  },
  {
   "cell_type": "code",
   "execution_count": 4,
   "metadata": {},
   "outputs": [
    {
     "data": {
      "text/plain": [
       "[ChunkEval(question='How heavy is this cordless drill compared to others on the market?', answer='This cordless drill is lightweight, making it easy to use for extended periods without fatigue.', chunk_id='0'),\n",
       " ChunkEval(question='What kind of tasks can this drill handle?', answer='The drill handles heavy-duty tasks with ease, thanks to its top-notch build quality and 2-speed transmission that allows for high torque and high speed.', chunk_id='0')]"
      ]
     },
     "execution_count": 4,
     "metadata": {},
     "output_type": "execute_result"
    }
   ],
   "source": [
    "import asyncio\n",
    "\n",
    "\n",
    "class ChunkProcessingError(Exception):\n",
    "    pass\n",
    "\n",
    "\n",
    "async def process_chunk(\n",
    "    review: Review,\n",
    "    n_questions: int,\n",
    "    example_questions: List[str],\n",
    "    semaphore: asyncio.Semaphore,\n",
    ") -> List[ChunkEval]:\n",
    "    async with semaphore:\n",
    "        try:\n",
    "            return await generate_evals(review, n_questions, example_questions)\n",
    "        except Exception as e:\n",
    "            print(f\"Unexpected error processing chunk {review.id}: {str(e)}\")\n",
    "            raise ChunkProcessingError(f\"Failed to process chunk {review.id}\") from e\n",
    "\n",
    "\n",
    "# Test that we get the same results as directly calling generate_evals\n",
    "await process_chunk(\n",
    "    sample_chunks[0], n_questions, example_questions, asyncio.Semaphore(1)\n",
    ")"
   ]
  },
  {
   "cell_type": "markdown",
   "metadata": {},
   "source": [
    "Now you can call `process_chunks` with all chunks to build the full dataset"
   ]
  },
  {
   "cell_type": "code",
   "execution_count": 5,
   "metadata": {},
   "outputs": [
    {
     "name": "stdout",
     "output_type": "stream",
     "text": [
      "Generated 2270 ChunkEvals.\n",
      "Dataset saved as 'synthetic_eval_dataset.json'\n"
     ]
    }
   ],
   "source": [
    "import json\n",
    "\n",
    "\n",
    "async def create_synthetic_dataset(\n",
    "    reviews: List[Review],\n",
    "    n_questions: int,\n",
    "    example_questions: List[str],\n",
    "    max_concurrency: int = 10,\n",
    ") -> List[ChunkEval]:\n",
    "    semaphore = asyncio.Semaphore(max_concurrency)\n",
    "    tasks = [\n",
    "        process_chunk(review, n_questions, example_questions, semaphore)\n",
    "        for review in reviews\n",
    "    ]\n",
    "    results = await asyncio.gather(*tasks, return_exceptions=True)\n",
    "\n",
    "    dataset = []\n",
    "    for result in results:\n",
    "        if isinstance(result, ChunkProcessingError):\n",
    "            print(result)\n",
    "        elif isinstance(result, list):\n",
    "            dataset.extend(result)\n",
    "        else:\n",
    "            print(f\"Unexpected result type: {type(result)}\")\n",
    "\n",
    "    return dataset\n",
    "\n",
    "\n",
    "def save_dataset(dataset: List[ChunkEval], filename: str):\n",
    "    with open(filename, \"w\") as f:\n",
    "        json.dump([chunk_eval.model_dump() for chunk_eval in dataset], f, indent=2)\n",
    "\n",
    "\n",
    "synthetic_dataset = await create_synthetic_dataset(\n",
    "    sample_chunks, n_questions, example_questions\n",
    ")\n",
    "save_dataset(synthetic_dataset, \"synthetic_eval_dataset.json\")\n",
    "\n",
    "print(f\"Generated {len(synthetic_dataset)} ChunkEvals.\")\n",
    "print(\"Dataset saved as 'synthetic_eval_dataset.json'\")"
   ]
  },
  {
   "cell_type": "markdown",
   "metadata": {},
   "source": [
    "View the data as a DataFrame"
   ]
  },
  {
   "cell_type": "code",
   "execution_count": 6,
   "metadata": {},
   "outputs": [
    {
     "data": {
      "text/html": [
       "<div>\n",
       "<style scoped>\n",
       "    .dataframe tbody tr th:only-of-type {\n",
       "        vertical-align: middle;\n",
       "    }\n",
       "\n",
       "    .dataframe tbody tr th {\n",
       "        vertical-align: top;\n",
       "    }\n",
       "\n",
       "    .dataframe thead th {\n",
       "        text-align: right;\n",
       "    }\n",
       "</style>\n",
       "<table border=\"1\" class=\"dataframe\">\n",
       "  <thead>\n",
       "    <tr style=\"text-align: right;\">\n",
       "      <th></th>\n",
       "      <th>question</th>\n",
       "      <th>answer</th>\n",
       "      <th>chunk_id</th>\n",
       "    </tr>\n",
       "  </thead>\n",
       "  <tbody>\n",
       "    <tr>\n",
       "      <th>0</th>\n",
       "      <td>How good is the battery life on this cordless drill?</td>\n",
       "      <td>It comes with two included batteries, ensuring that you never run out of power on the job.</td>\n",
       "      <td>0</td>\n",
       "    </tr>\n",
       "    <tr>\n",
       "      <th>1</th>\n",
       "      <td>Is this cordless drill easy to handle for long tasks?</td>\n",
       "      <td>Yes, its lightweight design makes it easy to use for extended periods without fatigue.</td>\n",
       "      <td>0</td>\n",
       "    </tr>\n",
       "    <tr>\n",
       "      <th>2</th>\n",
       "      <td>How powerful is the motor in this cordless drill?</td>\n",
       "      <td>The cordless drill features a powerful motor that exceeds expectations for professional use.</td>\n",
       "      <td>1</td>\n",
       "    </tr>\n",
       "    <tr>\n",
       "      <th>3</th>\n",
       "      <td>What design features make this drill suitable for overhead tasks?</td>\n",
       "      <td>The cordless drill has a lightweight design and ergonomic build, making it perfect for overhead tasks.</td>\n",
       "      <td>1</td>\n",
       "    </tr>\n",
       "    <tr>\n",
       "      <th>4</th>\n",
       "      <td>How durable are the batteries for this cordless drill?</td>\n",
       "      <td>The batteries charge quickly and last a long time, which is a huge plus.</td>\n",
       "      <td>2</td>\n",
       "    </tr>\n",
       "  </tbody>\n",
       "</table>\n",
       "</div>"
      ],
      "text/plain": [
       "                                                            question  \\\n",
       "0               How good is the battery life on this cordless drill?   \n",
       "1              Is this cordless drill easy to handle for long tasks?   \n",
       "2                  How powerful is the motor in this cordless drill?   \n",
       "3  What design features make this drill suitable for overhead tasks?   \n",
       "4             How durable are the batteries for this cordless drill?   \n",
       "\n",
       "                                                                                                   answer  \\\n",
       "0              It comes with two included batteries, ensuring that you never run out of power on the job.   \n",
       "1                  Yes, its lightweight design makes it easy to use for extended periods without fatigue.   \n",
       "2            The cordless drill features a powerful motor that exceeds expectations for professional use.   \n",
       "3  The cordless drill has a lightweight design and ergonomic build, making it perfect for overhead tasks.   \n",
       "4                                The batteries charge quickly and last a long time, which is a huge plus.   \n",
       "\n",
       "  chunk_id  \n",
       "0        0  \n",
       "1        0  \n",
       "2        1  \n",
       "3        1  \n",
       "4        2  "
      ]
     },
     "execution_count": 6,
     "metadata": {},
     "output_type": "execute_result"
    }
   ],
   "source": [
    "data = [(i.question, i.answer, i.chunk_id) for i in synthetic_dataset]\n",
    "pd.DataFrame(data, columns=[\"question\", \"answer\", \"chunk_id\"]).head()"
   ]
  },
  {
   "cell_type": "code",
   "execution_count": null,
   "metadata": {},
   "outputs": [],
   "source": []
  }
 ],
 "metadata": {
  "kernelspec": {
   "display_name": "Python 3",
   "language": "python",
   "name": "python3"
  },
  "language_info": {
   "codemirror_mode": {
    "name": "ipython",
    "version": 3
   },
   "file_extension": ".py",
   "mimetype": "text/x-python",
   "name": "python",
   "nbconvert_exporter": "python",
   "pygments_lexer": "ipython3",
   "version": "3.10.14"
  }
 },
 "nbformat": 4,
 "nbformat_minor": 2
}
